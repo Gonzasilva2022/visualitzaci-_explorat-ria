{
 "cells": [
  {
   "cell_type": "code",
   "execution_count": 1,
   "id": "b4895701",
   "metadata": {},
   "outputs": [],
   "source": [
    "import matplotlib\n",
    "import matplotlib.pyplot as plt\n",
    "import numpy as np\n",
    "import pandas as pd\n",
    "import seaborn as sns"
   ]
  },
  {
   "cell_type": "markdown",
   "id": "4fb94320",
   "metadata": {},
   "source": [
    "# - Exercici 1\n",
    "\n",
    "**Descarrega el dataset adjunt preu lloguer per trimestre i barri.csv extret de la web OpenDataBCN i resumeix-lo estadísticament i gràficament**.\n",
    "\n",
    "Crea almenys una visualització per:\n",
    "\n",
    "1. Una variable categòrica (Districte o Barri)\n",
    "2. Una variable numèrica (Preu)\n",
    "3. Una variable numèrica i una categòrica (Districte i Preu)\n",
    "4. Dues variables numèriques (Any o Trimestre i Preu)\n",
    "5. Tres variables (Barri o Districte, Trimestre i Preu)"
   ]
  },
  {
   "cell_type": "markdown",
   "id": "a97373bc",
   "metadata": {},
   "source": [
    "## Descàrrega y resumen estadístic del dataframe"
   ]
  },
  {
   "cell_type": "markdown",
   "id": "12b70240",
   "metadata": {},
   "source": [
    "##### Descarraguem el dataset i després fem un cop d'ull a les seves primeres 10 files."
   ]
  },
  {
   "cell_type": "code",
   "execution_count": 2,
   "id": "41293692",
   "metadata": {},
   "outputs": [
    {
     "data": {
      "text/html": [
       "<div>\n",
       "<style scoped>\n",
       "    .dataframe tbody tr th:only-of-type {\n",
       "        vertical-align: middle;\n",
       "    }\n",
       "\n",
       "    .dataframe tbody tr th {\n",
       "        vertical-align: top;\n",
       "    }\n",
       "\n",
       "    .dataframe thead th {\n",
       "        text-align: right;\n",
       "    }\n",
       "</style>\n",
       "<table border=\"1\" class=\"dataframe\">\n",
       "  <thead>\n",
       "    <tr style=\"text-align: right;\">\n",
       "      <th></th>\n",
       "      <th>Any</th>\n",
       "      <th>Trimestre</th>\n",
       "      <th>Codi_Districte</th>\n",
       "      <th>Nom_Districte</th>\n",
       "      <th>Codi_Barri</th>\n",
       "      <th>Nom_Barri</th>\n",
       "      <th>Lloguer_mitja</th>\n",
       "      <th>Preu</th>\n",
       "    </tr>\n",
       "  </thead>\n",
       "  <tbody>\n",
       "    <tr>\n",
       "      <th>0</th>\n",
       "      <td>2021</td>\n",
       "      <td>1</td>\n",
       "      <td>1</td>\n",
       "      <td>Ciutat Vella</td>\n",
       "      <td>1</td>\n",
       "      <td>el Raval</td>\n",
       "      <td>Lloguer mitjà mensual (Euros/mes)</td>\n",
       "      <td>759.2</td>\n",
       "    </tr>\n",
       "    <tr>\n",
       "      <th>1</th>\n",
       "      <td>2021</td>\n",
       "      <td>1</td>\n",
       "      <td>1</td>\n",
       "      <td>Ciutat Vella</td>\n",
       "      <td>2</td>\n",
       "      <td>el Barri Gòtic</td>\n",
       "      <td>Lloguer mitjà mensual (Euros/mes)</td>\n",
       "      <td>929.6</td>\n",
       "    </tr>\n",
       "    <tr>\n",
       "      <th>2</th>\n",
       "      <td>2021</td>\n",
       "      <td>1</td>\n",
       "      <td>1</td>\n",
       "      <td>Ciutat Vella</td>\n",
       "      <td>3</td>\n",
       "      <td>la Barceloneta</td>\n",
       "      <td>Lloguer mitjà mensual (Euros/mes)</td>\n",
       "      <td>808.9</td>\n",
       "    </tr>\n",
       "    <tr>\n",
       "      <th>3</th>\n",
       "      <td>2021</td>\n",
       "      <td>1</td>\n",
       "      <td>1</td>\n",
       "      <td>Ciutat Vella</td>\n",
       "      <td>4</td>\n",
       "      <td>Sant Pere, Santa Caterina i la Ribera</td>\n",
       "      <td>Lloguer mitjà mensual (Euros/mes)</td>\n",
       "      <td>879.4</td>\n",
       "    </tr>\n",
       "    <tr>\n",
       "      <th>4</th>\n",
       "      <td>2021</td>\n",
       "      <td>1</td>\n",
       "      <td>2</td>\n",
       "      <td>Eixample</td>\n",
       "      <td>5</td>\n",
       "      <td>el Fort Pienc</td>\n",
       "      <td>Lloguer mitjà mensual (Euros/mes)</td>\n",
       "      <td>918.0</td>\n",
       "    </tr>\n",
       "    <tr>\n",
       "      <th>5</th>\n",
       "      <td>2021</td>\n",
       "      <td>1</td>\n",
       "      <td>2</td>\n",
       "      <td>Eixample</td>\n",
       "      <td>6</td>\n",
       "      <td>la Sagrada Família</td>\n",
       "      <td>Lloguer mitjà mensual (Euros/mes)</td>\n",
       "      <td>887.1</td>\n",
       "    </tr>\n",
       "    <tr>\n",
       "      <th>6</th>\n",
       "      <td>2021</td>\n",
       "      <td>1</td>\n",
       "      <td>2</td>\n",
       "      <td>Eixample</td>\n",
       "      <td>7</td>\n",
       "      <td>la Dreta de l'Eixample</td>\n",
       "      <td>Lloguer mitjà mensual (Euros/mes)</td>\n",
       "      <td>1176.7</td>\n",
       "    </tr>\n",
       "    <tr>\n",
       "      <th>7</th>\n",
       "      <td>2021</td>\n",
       "      <td>1</td>\n",
       "      <td>2</td>\n",
       "      <td>Eixample</td>\n",
       "      <td>8</td>\n",
       "      <td>l'Antiga Esquerra de l'Eixample</td>\n",
       "      <td>Lloguer mitjà mensual (Euros/mes)</td>\n",
       "      <td>1040.2</td>\n",
       "    </tr>\n",
       "    <tr>\n",
       "      <th>8</th>\n",
       "      <td>2021</td>\n",
       "      <td>1</td>\n",
       "      <td>2</td>\n",
       "      <td>Eixample</td>\n",
       "      <td>9</td>\n",
       "      <td>la Nova Esquerra de l'Eixample</td>\n",
       "      <td>Lloguer mitjà mensual (Euros/mes)</td>\n",
       "      <td>964.0</td>\n",
       "    </tr>\n",
       "    <tr>\n",
       "      <th>9</th>\n",
       "      <td>2021</td>\n",
       "      <td>1</td>\n",
       "      <td>2</td>\n",
       "      <td>Eixample</td>\n",
       "      <td>10</td>\n",
       "      <td>Sant Antoni</td>\n",
       "      <td>Lloguer mitjà mensual (Euros/mes)</td>\n",
       "      <td>898.7</td>\n",
       "    </tr>\n",
       "  </tbody>\n",
       "</table>\n",
       "</div>"
      ],
      "text/plain": [
       "    Any  Trimestre  Codi_Districte Nom_Districte  Codi_Barri  \\\n",
       "0  2021          1               1  Ciutat Vella           1   \n",
       "1  2021          1               1  Ciutat Vella           2   \n",
       "2  2021          1               1  Ciutat Vella           3   \n",
       "3  2021          1               1  Ciutat Vella           4   \n",
       "4  2021          1               2      Eixample           5   \n",
       "5  2021          1               2      Eixample           6   \n",
       "6  2021          1               2      Eixample           7   \n",
       "7  2021          1               2      Eixample           8   \n",
       "8  2021          1               2      Eixample           9   \n",
       "9  2021          1               2      Eixample          10   \n",
       "\n",
       "                               Nom_Barri                      Lloguer_mitja  \\\n",
       "0                               el Raval  Lloguer mitjà mensual (Euros/mes)   \n",
       "1                         el Barri Gòtic  Lloguer mitjà mensual (Euros/mes)   \n",
       "2                         la Barceloneta  Lloguer mitjà mensual (Euros/mes)   \n",
       "3  Sant Pere, Santa Caterina i la Ribera  Lloguer mitjà mensual (Euros/mes)   \n",
       "4                          el Fort Pienc  Lloguer mitjà mensual (Euros/mes)   \n",
       "5                     la Sagrada Família  Lloguer mitjà mensual (Euros/mes)   \n",
       "6                 la Dreta de l'Eixample  Lloguer mitjà mensual (Euros/mes)   \n",
       "7        l'Antiga Esquerra de l'Eixample  Lloguer mitjà mensual (Euros/mes)   \n",
       "8         la Nova Esquerra de l'Eixample  Lloguer mitjà mensual (Euros/mes)   \n",
       "9                            Sant Antoni  Lloguer mitjà mensual (Euros/mes)   \n",
       "\n",
       "     Preu  \n",
       "0   759.2  \n",
       "1   929.6  \n",
       "2   808.9  \n",
       "3   879.4  \n",
       "4   918.0  \n",
       "5   887.1  \n",
       "6  1176.7  \n",
       "7  1040.2  \n",
       "8   964.0  \n",
       "9   898.7  "
      ]
     },
     "execution_count": 2,
     "metadata": {},
     "output_type": "execute_result"
    }
   ],
   "source": [
    "df = pd.read_csv('preu lloguer per trimestre i barri.csv')\n",
    "df.head(10)"
   ]
  },
  {
   "cell_type": "markdown",
   "id": "efde75d6",
   "metadata": {},
   "source": [
    "##### Ara mirem de manera ràpida els tipus de dades, totes les columnes i el rang."
   ]
  },
  {
   "cell_type": "code",
   "execution_count": 3,
   "id": "12908aed",
   "metadata": {
    "scrolled": true
   },
   "outputs": [
    {
     "name": "stdout",
     "output_type": "stream",
     "text": [
      "<class 'pandas.core.frame.DataFrame'>\n",
      "RangeIndex: 584 entries, 0 to 583\n",
      "Data columns (total 8 columns):\n",
      " #   Column          Non-Null Count  Dtype \n",
      "---  ------          --------------  ----- \n",
      " 0   Any             584 non-null    int64 \n",
      " 1   Trimestre       584 non-null    int64 \n",
      " 2   Codi_Districte  584 non-null    int64 \n",
      " 3   Nom_Districte   584 non-null    object\n",
      " 4   Codi_Barri      584 non-null    int64 \n",
      " 5   Nom_Barri       584 non-null    object\n",
      " 6   Lloguer_mitja   584 non-null    object\n",
      " 7   Preu            584 non-null    object\n",
      "dtypes: int64(4), object(4)\n",
      "memory usage: 36.6+ KB\n"
     ]
    }
   ],
   "source": [
    "df.info()"
   ]
  },
  {
   "cell_type": "markdown",
   "id": "705b788d",
   "metadata": {},
   "source": [
    "##### Hem vist que la columne 'Preu' que porta valors numèrics és declarada com a object. Per a tant hem de posarla com a valor numèric per no tenir problemes amb els càlculs més endavant."
   ]
  },
  {
   "cell_type": "markdown",
   "id": "52e54426",
   "metadata": {},
   "source": [
    "##### La funció 'pd.numeric' és més potent que la funció 'astype'. Aixó bàsicament perquè  a travès de 'pd.numeric' i els seus arguments podem djustar possibles errors que tingui la columna i posar-los com a NaN's."
   ]
  },
  {
   "cell_type": "code",
   "execution_count": 4,
   "id": "579218ed",
   "metadata": {},
   "outputs": [
    {
     "name": "stdout",
     "output_type": "stream",
     "text": [
      "Any                 int64\n",
      "Trimestre           int64\n",
      "Codi_Districte      int64\n",
      "Nom_Districte      object\n",
      "Codi_Barri          int64\n",
      "Nom_Barri          object\n",
      "Lloguer_mitja      object\n",
      "Preu              float64\n",
      "dtype: object\n"
     ]
    }
   ],
   "source": [
    "# A través del argument 'coerce' qualsevol valor no numèric serà convertit en NaN.\n",
    "\n",
    "df[\"Preu\"] = pd.to_numeric(df[\"Preu\"], errors=\"coerce\")\n",
    "\n",
    "print(df.dtypes)"
   ]
  },
  {
   "cell_type": "markdown",
   "id": "1049a9ff",
   "metadata": {},
   "source": [
    "##### És fonamental fer un describe per tenir les primeres estatístiques básicas del dataframe."
   ]
  },
  {
   "cell_type": "code",
   "execution_count": 5,
   "id": "dba92524",
   "metadata": {
    "scrolled": true
   },
   "outputs": [
    {
     "data": {
      "text/html": [
       "<div>\n",
       "<style scoped>\n",
       "    .dataframe tbody tr th:only-of-type {\n",
       "        vertical-align: middle;\n",
       "    }\n",
       "\n",
       "    .dataframe tbody tr th {\n",
       "        vertical-align: top;\n",
       "    }\n",
       "\n",
       "    .dataframe thead th {\n",
       "        text-align: right;\n",
       "    }\n",
       "</style>\n",
       "<table border=\"1\" class=\"dataframe\">\n",
       "  <thead>\n",
       "    <tr style=\"text-align: right;\">\n",
       "      <th></th>\n",
       "      <th>Any</th>\n",
       "      <th>Trimestre</th>\n",
       "      <th>Codi_Districte</th>\n",
       "      <th>Codi_Barri</th>\n",
       "      <th>Preu</th>\n",
       "    </tr>\n",
       "  </thead>\n",
       "  <tbody>\n",
       "    <tr>\n",
       "      <th>count</th>\n",
       "      <td>584.0</td>\n",
       "      <td>584.000000</td>\n",
       "      <td>584.000000</td>\n",
       "      <td>584.000000</td>\n",
       "      <td>540.000000</td>\n",
       "    </tr>\n",
       "    <tr>\n",
       "      <th>mean</th>\n",
       "      <td>2021.0</td>\n",
       "      <td>2.500000</td>\n",
       "      <td>6.246575</td>\n",
       "      <td>37.000000</td>\n",
       "      <td>442.157222</td>\n",
       "    </tr>\n",
       "    <tr>\n",
       "      <th>std</th>\n",
       "      <td>0.0</td>\n",
       "      <td>1.118992</td>\n",
       "      <td>2.790726</td>\n",
       "      <td>21.089371</td>\n",
       "      <td>457.358745</td>\n",
       "    </tr>\n",
       "    <tr>\n",
       "      <th>min</th>\n",
       "      <td>2021.0</td>\n",
       "      <td>1.000000</td>\n",
       "      <td>1.000000</td>\n",
       "      <td>1.000000</td>\n",
       "      <td>6.700000</td>\n",
       "    </tr>\n",
       "    <tr>\n",
       "      <th>25%</th>\n",
       "      <td>2021.0</td>\n",
       "      <td>1.750000</td>\n",
       "      <td>4.000000</td>\n",
       "      <td>19.000000</td>\n",
       "      <td>12.775000</td>\n",
       "    </tr>\n",
       "    <tr>\n",
       "      <th>50%</th>\n",
       "      <td>2021.0</td>\n",
       "      <td>2.500000</td>\n",
       "      <td>7.000000</td>\n",
       "      <td>37.000000</td>\n",
       "      <td>232.750000</td>\n",
       "    </tr>\n",
       "    <tr>\n",
       "      <th>75%</th>\n",
       "      <td>2021.0</td>\n",
       "      <td>3.250000</td>\n",
       "      <td>8.000000</td>\n",
       "      <td>55.000000</td>\n",
       "      <td>815.875000</td>\n",
       "    </tr>\n",
       "    <tr>\n",
       "      <th>max</th>\n",
       "      <td>2021.0</td>\n",
       "      <td>4.000000</td>\n",
       "      <td>10.000000</td>\n",
       "      <td>73.000000</td>\n",
       "      <td>1816.500000</td>\n",
       "    </tr>\n",
       "  </tbody>\n",
       "</table>\n",
       "</div>"
      ],
      "text/plain": [
       "          Any   Trimestre  Codi_Districte  Codi_Barri         Preu\n",
       "count   584.0  584.000000      584.000000  584.000000   540.000000\n",
       "mean   2021.0    2.500000        6.246575   37.000000   442.157222\n",
       "std       0.0    1.118992        2.790726   21.089371   457.358745\n",
       "min    2021.0    1.000000        1.000000    1.000000     6.700000\n",
       "25%    2021.0    1.750000        4.000000   19.000000    12.775000\n",
       "50%    2021.0    2.500000        7.000000   37.000000   232.750000\n",
       "75%    2021.0    3.250000        8.000000   55.000000   815.875000\n",
       "max    2021.0    4.000000       10.000000   73.000000  1816.500000"
      ]
     },
     "execution_count": 5,
     "metadata": {},
     "output_type": "execute_result"
    }
   ],
   "source": [
    "df.describe()"
   ]
  },
  {
   "cell_type": "markdown",
   "id": "9f228e0d",
   "metadata": {},
   "source": [
    "##### Podem veure que el codi anterior no descriu totes les columnes del dataframe. Això pot passar per varios motius. Un d'aquests pot ser perquè només s'ha aplicat la funció a les variables de tipus numèric. Ara inclorem totes les variables posant l'argument 'all'. Per tant vaurem no només veurem les típiques estatístiques de les variables numèriques sino que també ens mostrarà estatístiques per visualitzar variables categòriques."
   ]
  },
  {
   "cell_type": "code",
   "execution_count": 6,
   "id": "5a4f03e8",
   "metadata": {},
   "outputs": [
    {
     "data": {
      "text/html": [
       "<div>\n",
       "<style scoped>\n",
       "    .dataframe tbody tr th:only-of-type {\n",
       "        vertical-align: middle;\n",
       "    }\n",
       "\n",
       "    .dataframe tbody tr th {\n",
       "        vertical-align: top;\n",
       "    }\n",
       "\n",
       "    .dataframe thead th {\n",
       "        text-align: right;\n",
       "    }\n",
       "</style>\n",
       "<table border=\"1\" class=\"dataframe\">\n",
       "  <thead>\n",
       "    <tr style=\"text-align: right;\">\n",
       "      <th></th>\n",
       "      <th>Any</th>\n",
       "      <th>Trimestre</th>\n",
       "      <th>Codi_Districte</th>\n",
       "      <th>Nom_Districte</th>\n",
       "      <th>Codi_Barri</th>\n",
       "      <th>Nom_Barri</th>\n",
       "      <th>Lloguer_mitja</th>\n",
       "      <th>Preu</th>\n",
       "    </tr>\n",
       "  </thead>\n",
       "  <tbody>\n",
       "    <tr>\n",
       "      <th>count</th>\n",
       "      <td>584.0</td>\n",
       "      <td>584.000000</td>\n",
       "      <td>584.000000</td>\n",
       "      <td>584</td>\n",
       "      <td>584.000000</td>\n",
       "      <td>584</td>\n",
       "      <td>584</td>\n",
       "      <td>540.000000</td>\n",
       "    </tr>\n",
       "    <tr>\n",
       "      <th>unique</th>\n",
       "      <td>NaN</td>\n",
       "      <td>NaN</td>\n",
       "      <td>NaN</td>\n",
       "      <td>10</td>\n",
       "      <td>NaN</td>\n",
       "      <td>73</td>\n",
       "      <td>2</td>\n",
       "      <td>NaN</td>\n",
       "    </tr>\n",
       "    <tr>\n",
       "      <th>top</th>\n",
       "      <td>NaN</td>\n",
       "      <td>NaN</td>\n",
       "      <td>NaN</td>\n",
       "      <td>Nou Barris</td>\n",
       "      <td>NaN</td>\n",
       "      <td>el Raval</td>\n",
       "      <td>Lloguer mitjà mensual (Euros/mes)</td>\n",
       "      <td>NaN</td>\n",
       "    </tr>\n",
       "    <tr>\n",
       "      <th>freq</th>\n",
       "      <td>NaN</td>\n",
       "      <td>NaN</td>\n",
       "      <td>NaN</td>\n",
       "      <td>104</td>\n",
       "      <td>NaN</td>\n",
       "      <td>8</td>\n",
       "      <td>292</td>\n",
       "      <td>NaN</td>\n",
       "    </tr>\n",
       "    <tr>\n",
       "      <th>mean</th>\n",
       "      <td>2021.0</td>\n",
       "      <td>2.500000</td>\n",
       "      <td>6.246575</td>\n",
       "      <td>NaN</td>\n",
       "      <td>37.000000</td>\n",
       "      <td>NaN</td>\n",
       "      <td>NaN</td>\n",
       "      <td>442.157222</td>\n",
       "    </tr>\n",
       "    <tr>\n",
       "      <th>std</th>\n",
       "      <td>0.0</td>\n",
       "      <td>1.118992</td>\n",
       "      <td>2.790726</td>\n",
       "      <td>NaN</td>\n",
       "      <td>21.089371</td>\n",
       "      <td>NaN</td>\n",
       "      <td>NaN</td>\n",
       "      <td>457.358745</td>\n",
       "    </tr>\n",
       "    <tr>\n",
       "      <th>min</th>\n",
       "      <td>2021.0</td>\n",
       "      <td>1.000000</td>\n",
       "      <td>1.000000</td>\n",
       "      <td>NaN</td>\n",
       "      <td>1.000000</td>\n",
       "      <td>NaN</td>\n",
       "      <td>NaN</td>\n",
       "      <td>6.700000</td>\n",
       "    </tr>\n",
       "    <tr>\n",
       "      <th>25%</th>\n",
       "      <td>2021.0</td>\n",
       "      <td>1.750000</td>\n",
       "      <td>4.000000</td>\n",
       "      <td>NaN</td>\n",
       "      <td>19.000000</td>\n",
       "      <td>NaN</td>\n",
       "      <td>NaN</td>\n",
       "      <td>12.775000</td>\n",
       "    </tr>\n",
       "    <tr>\n",
       "      <th>50%</th>\n",
       "      <td>2021.0</td>\n",
       "      <td>2.500000</td>\n",
       "      <td>7.000000</td>\n",
       "      <td>NaN</td>\n",
       "      <td>37.000000</td>\n",
       "      <td>NaN</td>\n",
       "      <td>NaN</td>\n",
       "      <td>232.750000</td>\n",
       "    </tr>\n",
       "    <tr>\n",
       "      <th>75%</th>\n",
       "      <td>2021.0</td>\n",
       "      <td>3.250000</td>\n",
       "      <td>8.000000</td>\n",
       "      <td>NaN</td>\n",
       "      <td>55.000000</td>\n",
       "      <td>NaN</td>\n",
       "      <td>NaN</td>\n",
       "      <td>815.875000</td>\n",
       "    </tr>\n",
       "    <tr>\n",
       "      <th>max</th>\n",
       "      <td>2021.0</td>\n",
       "      <td>4.000000</td>\n",
       "      <td>10.000000</td>\n",
       "      <td>NaN</td>\n",
       "      <td>73.000000</td>\n",
       "      <td>NaN</td>\n",
       "      <td>NaN</td>\n",
       "      <td>1816.500000</td>\n",
       "    </tr>\n",
       "  </tbody>\n",
       "</table>\n",
       "</div>"
      ],
      "text/plain": [
       "           Any   Trimestre  Codi_Districte Nom_Districte  Codi_Barri  \\\n",
       "count    584.0  584.000000      584.000000           584  584.000000   \n",
       "unique     NaN         NaN             NaN            10         NaN   \n",
       "top        NaN         NaN             NaN    Nou Barris         NaN   \n",
       "freq       NaN         NaN             NaN           104         NaN   \n",
       "mean    2021.0    2.500000        6.246575           NaN   37.000000   \n",
       "std        0.0    1.118992        2.790726           NaN   21.089371   \n",
       "min     2021.0    1.000000        1.000000           NaN    1.000000   \n",
       "25%     2021.0    1.750000        4.000000           NaN   19.000000   \n",
       "50%     2021.0    2.500000        7.000000           NaN   37.000000   \n",
       "75%     2021.0    3.250000        8.000000           NaN   55.000000   \n",
       "max     2021.0    4.000000       10.000000           NaN   73.000000   \n",
       "\n",
       "       Nom_Barri                      Lloguer_mitja         Preu  \n",
       "count        584                                584   540.000000  \n",
       "unique        73                                  2          NaN  \n",
       "top     el Raval  Lloguer mitjà mensual (Euros/mes)          NaN  \n",
       "freq           8                                292          NaN  \n",
       "mean         NaN                                NaN   442.157222  \n",
       "std          NaN                                NaN   457.358745  \n",
       "min          NaN                                NaN     6.700000  \n",
       "25%          NaN                                NaN    12.775000  \n",
       "50%          NaN                                NaN   232.750000  \n",
       "75%          NaN                                NaN   815.875000  \n",
       "max          NaN                                NaN  1816.500000  "
      ]
     },
     "execution_count": 6,
     "metadata": {},
     "output_type": "execute_result"
    }
   ],
   "source": [
    "df.describe(include='all')"
   ]
  },
  {
   "cell_type": "markdown",
   "id": "c333eab8",
   "metadata": {},
   "source": [
    "##### Ara que ja podem veure la taula sencera, farem una petita descripció general del dataset fins ara:\n",
    "\n",
    "1. Tenim 584 registres en 8 columnes del any 2021, on el barri més frequent que podem trobar és El Raval.\n",
    "2. El dataset disposa de 10 districtes diferents on és distribueixen 73 barris.\n",
    "3. El preu de lloguer mitjà es de 442€, però la columna 'Lloguer_mitjà porta dues categories' que hem de conèixer i que podria afectar el valor d'aquest preu (l'hem de revisar).\n",
    "4. Podem observar que el dataset presenta valors NaN's que hauriem de veure que fem amb ells. Podríem per exemple omplir-los amb zeros o eliminar-los directament perque no tinguin influencia en la mitjà del lloguer posteriorment. Per un altre banda podriem substituir els nan's per la mitjana del seu barri."
   ]
  },
  {
   "cell_type": "markdown",
   "id": "bf260771",
   "metadata": {},
   "source": [
    "##### Mirarem quines son les dues categories de la columne 'lloguer_mitja' per entendre que haurem de fer desprès."
   ]
  },
  {
   "cell_type": "code",
   "execution_count": 7,
   "id": "85aa79f4",
   "metadata": {},
   "outputs": [
    {
     "data": {
      "text/plain": [
       "array(['Lloguer mitjà mensual (Euros/mes)',\n",
       "       'Lloguer mitjà per superfície (Euros/m2 mes)'], dtype=object)"
      ]
     },
     "execution_count": 7,
     "metadata": {},
     "output_type": "execute_result"
    }
   ],
   "source": [
    "df.Lloguer_mitja.unique()"
   ]
  },
  {
   "cell_type": "markdown",
   "id": "7b1fedab",
   "metadata": {},
   "source": [
    "##### La columne porta dues categories que han de reflexar preus molt diferents. Per una banda, tenim la mitjà mensual del lloguer i per un altre el preu mitjà del metre quadrat, per tant la primera categoria ha de tenir valors molt més alts que la segona categoria. Per això tenim una dada mínima de 6 € i una máxima de 1.816 €. Al que farem llavors serà produir dos dataframes diferents. Un dataframe tindrà només les dades de la primera categoria i el segon les dades de la segona."
   ]
  },
  {
   "cell_type": "markdown",
   "id": "b9d1c607",
   "metadata": {},
   "source": [
    "##### Seleccionarem llavors pel primer df aquelles files iguals a 'Lloguer mitjà mensual (Euros/mes)', sota el nom de llog_mig"
   ]
  },
  {
   "cell_type": "code",
   "execution_count": 8,
   "id": "4341b661",
   "metadata": {},
   "outputs": [
    {
     "data": {
      "text/html": [
       "<div>\n",
       "<style scoped>\n",
       "    .dataframe tbody tr th:only-of-type {\n",
       "        vertical-align: middle;\n",
       "    }\n",
       "\n",
       "    .dataframe tbody tr th {\n",
       "        vertical-align: top;\n",
       "    }\n",
       "\n",
       "    .dataframe thead th {\n",
       "        text-align: right;\n",
       "    }\n",
       "</style>\n",
       "<table border=\"1\" class=\"dataframe\">\n",
       "  <thead>\n",
       "    <tr style=\"text-align: right;\">\n",
       "      <th></th>\n",
       "      <th>Any</th>\n",
       "      <th>Trimestre</th>\n",
       "      <th>Codi_Districte</th>\n",
       "      <th>Nom_Districte</th>\n",
       "      <th>Codi_Barri</th>\n",
       "      <th>Nom_Barri</th>\n",
       "      <th>Lloguer_mitja</th>\n",
       "      <th>Preu</th>\n",
       "    </tr>\n",
       "  </thead>\n",
       "  <tbody>\n",
       "    <tr>\n",
       "      <th>0</th>\n",
       "      <td>2021</td>\n",
       "      <td>1</td>\n",
       "      <td>1</td>\n",
       "      <td>Ciutat Vella</td>\n",
       "      <td>1</td>\n",
       "      <td>el Raval</td>\n",
       "      <td>Lloguer mitjà mensual (Euros/mes)</td>\n",
       "      <td>759.2</td>\n",
       "    </tr>\n",
       "    <tr>\n",
       "      <th>1</th>\n",
       "      <td>2021</td>\n",
       "      <td>1</td>\n",
       "      <td>1</td>\n",
       "      <td>Ciutat Vella</td>\n",
       "      <td>2</td>\n",
       "      <td>el Barri Gòtic</td>\n",
       "      <td>Lloguer mitjà mensual (Euros/mes)</td>\n",
       "      <td>929.6</td>\n",
       "    </tr>\n",
       "    <tr>\n",
       "      <th>2</th>\n",
       "      <td>2021</td>\n",
       "      <td>1</td>\n",
       "      <td>1</td>\n",
       "      <td>Ciutat Vella</td>\n",
       "      <td>3</td>\n",
       "      <td>la Barceloneta</td>\n",
       "      <td>Lloguer mitjà mensual (Euros/mes)</td>\n",
       "      <td>808.9</td>\n",
       "    </tr>\n",
       "    <tr>\n",
       "      <th>3</th>\n",
       "      <td>2021</td>\n",
       "      <td>1</td>\n",
       "      <td>1</td>\n",
       "      <td>Ciutat Vella</td>\n",
       "      <td>4</td>\n",
       "      <td>Sant Pere, Santa Caterina i la Ribera</td>\n",
       "      <td>Lloguer mitjà mensual (Euros/mes)</td>\n",
       "      <td>879.4</td>\n",
       "    </tr>\n",
       "    <tr>\n",
       "      <th>4</th>\n",
       "      <td>2021</td>\n",
       "      <td>1</td>\n",
       "      <td>2</td>\n",
       "      <td>Eixample</td>\n",
       "      <td>5</td>\n",
       "      <td>el Fort Pienc</td>\n",
       "      <td>Lloguer mitjà mensual (Euros/mes)</td>\n",
       "      <td>918.0</td>\n",
       "    </tr>\n",
       "    <tr>\n",
       "      <th>5</th>\n",
       "      <td>2021</td>\n",
       "      <td>1</td>\n",
       "      <td>2</td>\n",
       "      <td>Eixample</td>\n",
       "      <td>6</td>\n",
       "      <td>la Sagrada Família</td>\n",
       "      <td>Lloguer mitjà mensual (Euros/mes)</td>\n",
       "      <td>887.1</td>\n",
       "    </tr>\n",
       "    <tr>\n",
       "      <th>6</th>\n",
       "      <td>2021</td>\n",
       "      <td>1</td>\n",
       "      <td>2</td>\n",
       "      <td>Eixample</td>\n",
       "      <td>7</td>\n",
       "      <td>la Dreta de l'Eixample</td>\n",
       "      <td>Lloguer mitjà mensual (Euros/mes)</td>\n",
       "      <td>1176.7</td>\n",
       "    </tr>\n",
       "    <tr>\n",
       "      <th>7</th>\n",
       "      <td>2021</td>\n",
       "      <td>1</td>\n",
       "      <td>2</td>\n",
       "      <td>Eixample</td>\n",
       "      <td>8</td>\n",
       "      <td>l'Antiga Esquerra de l'Eixample</td>\n",
       "      <td>Lloguer mitjà mensual (Euros/mes)</td>\n",
       "      <td>1040.2</td>\n",
       "    </tr>\n",
       "    <tr>\n",
       "      <th>8</th>\n",
       "      <td>2021</td>\n",
       "      <td>1</td>\n",
       "      <td>2</td>\n",
       "      <td>Eixample</td>\n",
       "      <td>9</td>\n",
       "      <td>la Nova Esquerra de l'Eixample</td>\n",
       "      <td>Lloguer mitjà mensual (Euros/mes)</td>\n",
       "      <td>964.0</td>\n",
       "    </tr>\n",
       "    <tr>\n",
       "      <th>9</th>\n",
       "      <td>2021</td>\n",
       "      <td>1</td>\n",
       "      <td>2</td>\n",
       "      <td>Eixample</td>\n",
       "      <td>10</td>\n",
       "      <td>Sant Antoni</td>\n",
       "      <td>Lloguer mitjà mensual (Euros/mes)</td>\n",
       "      <td>898.7</td>\n",
       "    </tr>\n",
       "  </tbody>\n",
       "</table>\n",
       "</div>"
      ],
      "text/plain": [
       "    Any  Trimestre  Codi_Districte Nom_Districte  Codi_Barri  \\\n",
       "0  2021          1               1  Ciutat Vella           1   \n",
       "1  2021          1               1  Ciutat Vella           2   \n",
       "2  2021          1               1  Ciutat Vella           3   \n",
       "3  2021          1               1  Ciutat Vella           4   \n",
       "4  2021          1               2      Eixample           5   \n",
       "5  2021          1               2      Eixample           6   \n",
       "6  2021          1               2      Eixample           7   \n",
       "7  2021          1               2      Eixample           8   \n",
       "8  2021          1               2      Eixample           9   \n",
       "9  2021          1               2      Eixample          10   \n",
       "\n",
       "                               Nom_Barri                      Lloguer_mitja  \\\n",
       "0                               el Raval  Lloguer mitjà mensual (Euros/mes)   \n",
       "1                         el Barri Gòtic  Lloguer mitjà mensual (Euros/mes)   \n",
       "2                         la Barceloneta  Lloguer mitjà mensual (Euros/mes)   \n",
       "3  Sant Pere, Santa Caterina i la Ribera  Lloguer mitjà mensual (Euros/mes)   \n",
       "4                          el Fort Pienc  Lloguer mitjà mensual (Euros/mes)   \n",
       "5                     la Sagrada Família  Lloguer mitjà mensual (Euros/mes)   \n",
       "6                 la Dreta de l'Eixample  Lloguer mitjà mensual (Euros/mes)   \n",
       "7        l'Antiga Esquerra de l'Eixample  Lloguer mitjà mensual (Euros/mes)   \n",
       "8         la Nova Esquerra de l'Eixample  Lloguer mitjà mensual (Euros/mes)   \n",
       "9                            Sant Antoni  Lloguer mitjà mensual (Euros/mes)   \n",
       "\n",
       "     Preu  \n",
       "0   759.2  \n",
       "1   929.6  \n",
       "2   808.9  \n",
       "3   879.4  \n",
       "4   918.0  \n",
       "5   887.1  \n",
       "6  1176.7  \n",
       "7  1040.2  \n",
       "8   964.0  \n",
       "9   898.7  "
      ]
     },
     "execution_count": 8,
     "metadata": {},
     "output_type": "execute_result"
    }
   ],
   "source": [
    "llog_mig = df.loc[df['Lloguer_mitja'] == 'Lloguer mitjà mensual (Euros/mes)']\n",
    "llog_mig.head(10)"
   ]
  },
  {
   "cell_type": "markdown",
   "id": "140b3ffc",
   "metadata": {},
   "source": [
    "##### Ara seleccionarem per la creació del segon df aquelles files iguals a 'Lloguer mitjà per superfície (Euros/m2 mes)', sota el nom de llog_m2"
   ]
  },
  {
   "cell_type": "code",
   "execution_count": 9,
   "id": "509cabf0",
   "metadata": {},
   "outputs": [
    {
     "data": {
      "text/html": [
       "<div>\n",
       "<style scoped>\n",
       "    .dataframe tbody tr th:only-of-type {\n",
       "        vertical-align: middle;\n",
       "    }\n",
       "\n",
       "    .dataframe tbody tr th {\n",
       "        vertical-align: top;\n",
       "    }\n",
       "\n",
       "    .dataframe thead th {\n",
       "        text-align: right;\n",
       "    }\n",
       "</style>\n",
       "<table border=\"1\" class=\"dataframe\">\n",
       "  <thead>\n",
       "    <tr style=\"text-align: right;\">\n",
       "      <th></th>\n",
       "      <th>Any</th>\n",
       "      <th>Trimestre</th>\n",
       "      <th>Codi_Districte</th>\n",
       "      <th>Nom_Districte</th>\n",
       "      <th>Codi_Barri</th>\n",
       "      <th>Nom_Barri</th>\n",
       "      <th>Lloguer_mitja</th>\n",
       "      <th>Preu</th>\n",
       "    </tr>\n",
       "  </thead>\n",
       "  <tbody>\n",
       "    <tr>\n",
       "      <th>73</th>\n",
       "      <td>2021</td>\n",
       "      <td>1</td>\n",
       "      <td>1</td>\n",
       "      <td>Ciutat Vella</td>\n",
       "      <td>1</td>\n",
       "      <td>el Raval</td>\n",
       "      <td>Lloguer mitjà per superfície (Euros/m2 mes)</td>\n",
       "      <td>12.8</td>\n",
       "    </tr>\n",
       "    <tr>\n",
       "      <th>74</th>\n",
       "      <td>2021</td>\n",
       "      <td>1</td>\n",
       "      <td>1</td>\n",
       "      <td>Ciutat Vella</td>\n",
       "      <td>2</td>\n",
       "      <td>el Barri Gòtic</td>\n",
       "      <td>Lloguer mitjà per superfície (Euros/m2 mes)</td>\n",
       "      <td>12.3</td>\n",
       "    </tr>\n",
       "    <tr>\n",
       "      <th>75</th>\n",
       "      <td>2021</td>\n",
       "      <td>1</td>\n",
       "      <td>1</td>\n",
       "      <td>Ciutat Vella</td>\n",
       "      <td>3</td>\n",
       "      <td>la Barceloneta</td>\n",
       "      <td>Lloguer mitjà per superfície (Euros/m2 mes)</td>\n",
       "      <td>15.5</td>\n",
       "    </tr>\n",
       "    <tr>\n",
       "      <th>76</th>\n",
       "      <td>2021</td>\n",
       "      <td>1</td>\n",
       "      <td>1</td>\n",
       "      <td>Ciutat Vella</td>\n",
       "      <td>4</td>\n",
       "      <td>Sant Pere, Santa Caterina i la Ribera</td>\n",
       "      <td>Lloguer mitjà per superfície (Euros/m2 mes)</td>\n",
       "      <td>13.3</td>\n",
       "    </tr>\n",
       "    <tr>\n",
       "      <th>77</th>\n",
       "      <td>2021</td>\n",
       "      <td>1</td>\n",
       "      <td>2</td>\n",
       "      <td>Eixample</td>\n",
       "      <td>5</td>\n",
       "      <td>el Fort Pienc</td>\n",
       "      <td>Lloguer mitjà per superfície (Euros/m2 mes)</td>\n",
       "      <td>12.9</td>\n",
       "    </tr>\n",
       "    <tr>\n",
       "      <th>78</th>\n",
       "      <td>2021</td>\n",
       "      <td>1</td>\n",
       "      <td>2</td>\n",
       "      <td>Eixample</td>\n",
       "      <td>6</td>\n",
       "      <td>la Sagrada Família</td>\n",
       "      <td>Lloguer mitjà per superfície (Euros/m2 mes)</td>\n",
       "      <td>13.5</td>\n",
       "    </tr>\n",
       "    <tr>\n",
       "      <th>79</th>\n",
       "      <td>2021</td>\n",
       "      <td>1</td>\n",
       "      <td>2</td>\n",
       "      <td>Eixample</td>\n",
       "      <td>7</td>\n",
       "      <td>la Dreta de l'Eixample</td>\n",
       "      <td>Lloguer mitjà per superfície (Euros/m2 mes)</td>\n",
       "      <td>13.0</td>\n",
       "    </tr>\n",
       "    <tr>\n",
       "      <th>80</th>\n",
       "      <td>2021</td>\n",
       "      <td>1</td>\n",
       "      <td>2</td>\n",
       "      <td>Eixample</td>\n",
       "      <td>8</td>\n",
       "      <td>l'Antiga Esquerra de l'Eixample</td>\n",
       "      <td>Lloguer mitjà per superfície (Euros/m2 mes)</td>\n",
       "      <td>13.7</td>\n",
       "    </tr>\n",
       "    <tr>\n",
       "      <th>81</th>\n",
       "      <td>2021</td>\n",
       "      <td>1</td>\n",
       "      <td>2</td>\n",
       "      <td>Eixample</td>\n",
       "      <td>9</td>\n",
       "      <td>la Nova Esquerra de l'Eixample</td>\n",
       "      <td>Lloguer mitjà per superfície (Euros/m2 mes)</td>\n",
       "      <td>13.6</td>\n",
       "    </tr>\n",
       "    <tr>\n",
       "      <th>82</th>\n",
       "      <td>2021</td>\n",
       "      <td>1</td>\n",
       "      <td>2</td>\n",
       "      <td>Eixample</td>\n",
       "      <td>10</td>\n",
       "      <td>Sant Antoni</td>\n",
       "      <td>Lloguer mitjà per superfície (Euros/m2 mes)</td>\n",
       "      <td>12.5</td>\n",
       "    </tr>\n",
       "  </tbody>\n",
       "</table>\n",
       "</div>"
      ],
      "text/plain": [
       "     Any  Trimestre  Codi_Districte Nom_Districte  Codi_Barri  \\\n",
       "73  2021          1               1  Ciutat Vella           1   \n",
       "74  2021          1               1  Ciutat Vella           2   \n",
       "75  2021          1               1  Ciutat Vella           3   \n",
       "76  2021          1               1  Ciutat Vella           4   \n",
       "77  2021          1               2      Eixample           5   \n",
       "78  2021          1               2      Eixample           6   \n",
       "79  2021          1               2      Eixample           7   \n",
       "80  2021          1               2      Eixample           8   \n",
       "81  2021          1               2      Eixample           9   \n",
       "82  2021          1               2      Eixample          10   \n",
       "\n",
       "                                Nom_Barri  \\\n",
       "73                               el Raval   \n",
       "74                         el Barri Gòtic   \n",
       "75                         la Barceloneta   \n",
       "76  Sant Pere, Santa Caterina i la Ribera   \n",
       "77                          el Fort Pienc   \n",
       "78                     la Sagrada Família   \n",
       "79                 la Dreta de l'Eixample   \n",
       "80        l'Antiga Esquerra de l'Eixample   \n",
       "81         la Nova Esquerra de l'Eixample   \n",
       "82                            Sant Antoni   \n",
       "\n",
       "                                  Lloguer_mitja  Preu  \n",
       "73  Lloguer mitjà per superfície (Euros/m2 mes)  12.8  \n",
       "74  Lloguer mitjà per superfície (Euros/m2 mes)  12.3  \n",
       "75  Lloguer mitjà per superfície (Euros/m2 mes)  15.5  \n",
       "76  Lloguer mitjà per superfície (Euros/m2 mes)  13.3  \n",
       "77  Lloguer mitjà per superfície (Euros/m2 mes)  12.9  \n",
       "78  Lloguer mitjà per superfície (Euros/m2 mes)  13.5  \n",
       "79  Lloguer mitjà per superfície (Euros/m2 mes)  13.0  \n",
       "80  Lloguer mitjà per superfície (Euros/m2 mes)  13.7  \n",
       "81  Lloguer mitjà per superfície (Euros/m2 mes)  13.6  \n",
       "82  Lloguer mitjà per superfície (Euros/m2 mes)  12.5  "
      ]
     },
     "execution_count": 9,
     "metadata": {},
     "output_type": "execute_result"
    }
   ],
   "source": [
    "llog_m2 = df.loc[df['Lloguer_mitja'] == 'Lloguer mitjà per superfície (Euros/m2 mes)']\n",
    "llog_m2.head(10)"
   ]
  },
  {
   "cell_type": "code",
   "execution_count": 10,
   "id": "fa0ade52",
   "metadata": {
    "scrolled": false
   },
   "outputs": [
    {
     "data": {
      "text/plain": [
       "Any                0\n",
       "Trimestre          0\n",
       "Codi_Districte     0\n",
       "Nom_Districte      0\n",
       "Codi_Barri         0\n",
       "Nom_Barri          0\n",
       "Lloguer_mitja      0\n",
       "Preu              22\n",
       "dtype: int64"
      ]
     },
     "execution_count": 10,
     "metadata": {},
     "output_type": "execute_result"
    }
   ],
   "source": [
    "# revisem els Nan's. Veiem que la meitat son aquí en aquest dataframe, per tant l'altre meitat seren a l'altre df.\n",
    "llog_mig.isnull().sum()"
   ]
  },
  {
   "cell_type": "code",
   "execution_count": 11,
   "id": "68651c04",
   "metadata": {
    "scrolled": true
   },
   "outputs": [
    {
     "data": {
      "text/plain": [
       "Nom_Barri\n",
       "Baró de Viver                                   270.0250\n",
       "Can Baró                                        384.5125\n",
       "Can Peguera                                          NaN\n",
       "Canyelles                                       375.8500\n",
       "Ciutat Meridiana                                267.3000\n",
       "Diagonal Mar i el Front Marítim del Poblenou    544.7375\n",
       "Horta                                           380.6750\n",
       "Hostafrancs                                     402.2125\n",
       "Montbau                                         375.7750\n",
       "Navas                                           416.2000\n",
       "Name: Preu, dtype: float64"
      ]
     },
     "execution_count": 11,
     "metadata": {},
     "output_type": "execute_result"
    }
   ],
   "source": [
    "# Primer de tot calcularem la mitjà de 'Lloguer mitjà mensual (Euros/mes)' per barri.\n",
    "\n",
    "llog_mig_barri = df.groupby('Nom_Barri')['Preu'].mean()\n",
    "llog_mig_barri.head(10)"
   ]
  },
  {
   "cell_type": "markdown",
   "id": "337a14d1",
   "metadata": {},
   "source": [
    "##### El observar les primeres 10 dades amb la mitjà mensual veiem que el barri 'Can Peguera' mostra valors NaN. Això ens està advertint que potser tots el valors d'aquest barri i d'altres ni tinguin cap dada per calcular la mitjà. Ho corroborarem ara mateix."
   ]
  },
  {
   "cell_type": "code",
   "execution_count": 12,
   "id": "c4a9eb84",
   "metadata": {
    "scrolled": true
   },
   "outputs": [
    {
     "data": {
      "text/plain": [
       "4"
      ]
     },
     "execution_count": 12,
     "metadata": {},
     "output_type": "execute_result"
    }
   ],
   "source": [
    "#càlcul del valors NaN's en total del barri Can Peguera\n",
    "nan_valors = llog_mig['Preu'][llog_mig['Nom_Barri'] == 'Can Peguera'].isnull().sum()\n",
    "\n",
    "nan_valors"
   ]
  },
  {
   "cell_type": "code",
   "execution_count": 13,
   "id": "4ac2712f",
   "metadata": {},
   "outputs": [
    {
     "data": {
      "text/plain": [
       "46    NaN\n",
       "192   NaN\n",
       "338   NaN\n",
       "484   NaN\n",
       "Name: Preu, dtype: float64"
      ]
     },
     "execution_count": 13,
     "metadata": {},
     "output_type": "execute_result"
    }
   ],
   "source": [
    "# Revisió de totes les dades del barri Can Peguera.\n",
    "dades_can_peguera = llog_mig.loc[llog_mig['Nom_Barri'] == 'Can Peguera', 'Preu']\n",
    "dades_can_peguera"
   ]
  },
  {
   "cell_type": "markdown",
   "id": "1aa7c932",
   "metadata": {},
   "source": [
    "##### Les dades anteriors ens fan pendre la decisió de pujar l'escala d'anàlisi. Per tant, farem servir el nivell de districte per calcular la mitjà. Aquí hauriem de tenir almenys una dada numèrica per districte.  "
   ]
  },
  {
   "cell_type": "code",
   "execution_count": 14,
   "id": "05e5eb57",
   "metadata": {
    "scrolled": true
   },
   "outputs": [
    {
     "data": {
      "text/plain": [
       "Nom_Districte\n",
       "Ciutat Vella           436.350000\n",
       "Eixample               506.922917\n",
       "Gràcia                 445.322500\n",
       "Horta-Guinardó         388.497500\n",
       "Les Corts              614.037500\n",
       "Nou Barris             337.607500\n",
       "Sant Andreu            366.175000\n",
       "Sant Martí             464.945000\n",
       "Sants-Montjuïc         405.805357\n",
       "Sarrià-Sant Gervasi    643.112500\n",
       "Name: Preu, dtype: float64"
      ]
     },
     "execution_count": 14,
     "metadata": {},
     "output_type": "execute_result"
    }
   ],
   "source": [
    "# Ara llavors calcularem la mitjà de 'Lloguer mitjà mensual (Euros/mes)' per districte.\n",
    "\n",
    "llog_mig_dist = df.groupby('Nom_Districte')['Preu'].mean()\n",
    "llog_mig_dist"
   ]
  },
  {
   "cell_type": "markdown",
   "id": "67061be3",
   "metadata": {},
   "source": [
    "##### Podem veure que tots els districtes tenen valors de mitjà."
   ]
  },
  {
   "cell_type": "markdown",
   "id": "a26a08cd",
   "metadata": {},
   "source": [
    "##### Ara substituirem els nan's per la mitjà del valors del districte de manera de perdre'ls. Començarem pel primer dataframe. 'llog_mig'"
   ]
  },
  {
   "cell_type": "code",
   "execution_count": 15,
   "id": "c0174598",
   "metadata": {
    "scrolled": true
   },
   "outputs": [
    {
     "name": "stderr",
     "output_type": "stream",
     "text": [
      "C:\\Users\\Gonzalo\\AppData\\Local\\Temp\\ipykernel_10960\\2399639207.py:3: SettingWithCopyWarning: \n",
      "A value is trying to be set on a copy of a slice from a DataFrame.\n",
      "Try using .loc[row_indexer,col_indexer] = value instead\n",
      "\n",
      "See the caveats in the documentation: https://pandas.pydata.org/pandas-docs/stable/user_guide/indexing.html#returning-a-view-versus-a-copy\n",
      "  llog_mig['Preu'] = llog_mig['Preu'].fillna(llog_mig['Nom_Districte'].map(llog_mig_dist))\n"
     ]
    }
   ],
   "source": [
    "# Ara que tenim la mitjà substituirem els nan's per aquest valor.\n",
    "\n",
    "llog_mig['Preu'] = llog_mig['Preu'].fillna(llog_mig['Nom_Districte'].map(llog_mig_dist))"
   ]
  },
  {
   "cell_type": "markdown",
   "id": "6b22c659",
   "metadata": {},
   "source": [
    "##### El missatge en vermell ens adverteix que el resultat no serà del tot fiable. Allò ens indica una manera de corregir el codi creat però no acabo d'entendre com fer-ho (i no hem dona temps). Malgrat això el resultat que lliura sembla bé (veure les cel·les més andavant), perquè ja no veiem nan's. Per un altre costat, les estadístiques generals també es veuen bé. Tanmateix i malgrat això el que farem serà nomès eliminar els nan's de dos nous dataframes."
   ]
  },
  {
   "cell_type": "code",
   "execution_count": 16,
   "id": "347ec40f",
   "metadata": {
    "scrolled": true
   },
   "outputs": [
    {
     "data": {
      "text/html": [
       "<div>\n",
       "<style scoped>\n",
       "    .dataframe tbody tr th:only-of-type {\n",
       "        vertical-align: middle;\n",
       "    }\n",
       "\n",
       "    .dataframe tbody tr th {\n",
       "        vertical-align: top;\n",
       "    }\n",
       "\n",
       "    .dataframe thead th {\n",
       "        text-align: right;\n",
       "    }\n",
       "</style>\n",
       "<table border=\"1\" class=\"dataframe\">\n",
       "  <thead>\n",
       "    <tr style=\"text-align: right;\">\n",
       "      <th></th>\n",
       "      <th>Any</th>\n",
       "      <th>Trimestre</th>\n",
       "      <th>Codi_Districte</th>\n",
       "      <th>Nom_Districte</th>\n",
       "      <th>Codi_Barri</th>\n",
       "      <th>Nom_Barri</th>\n",
       "      <th>Lloguer_mitja</th>\n",
       "      <th>Preu</th>\n",
       "    </tr>\n",
       "  </thead>\n",
       "  <tbody>\n",
       "    <tr>\n",
       "      <th>0</th>\n",
       "      <td>2021</td>\n",
       "      <td>1</td>\n",
       "      <td>1</td>\n",
       "      <td>Ciutat Vella</td>\n",
       "      <td>1</td>\n",
       "      <td>el Raval</td>\n",
       "      <td>Lloguer mitjà mensual (Euros/mes)</td>\n",
       "      <td>759.2</td>\n",
       "    </tr>\n",
       "    <tr>\n",
       "      <th>1</th>\n",
       "      <td>2021</td>\n",
       "      <td>1</td>\n",
       "      <td>1</td>\n",
       "      <td>Ciutat Vella</td>\n",
       "      <td>2</td>\n",
       "      <td>el Barri Gòtic</td>\n",
       "      <td>Lloguer mitjà mensual (Euros/mes)</td>\n",
       "      <td>929.6</td>\n",
       "    </tr>\n",
       "    <tr>\n",
       "      <th>2</th>\n",
       "      <td>2021</td>\n",
       "      <td>1</td>\n",
       "      <td>1</td>\n",
       "      <td>Ciutat Vella</td>\n",
       "      <td>3</td>\n",
       "      <td>la Barceloneta</td>\n",
       "      <td>Lloguer mitjà mensual (Euros/mes)</td>\n",
       "      <td>808.9</td>\n",
       "    </tr>\n",
       "    <tr>\n",
       "      <th>3</th>\n",
       "      <td>2021</td>\n",
       "      <td>1</td>\n",
       "      <td>1</td>\n",
       "      <td>Ciutat Vella</td>\n",
       "      <td>4</td>\n",
       "      <td>Sant Pere, Santa Caterina i la Ribera</td>\n",
       "      <td>Lloguer mitjà mensual (Euros/mes)</td>\n",
       "      <td>879.4</td>\n",
       "    </tr>\n",
       "    <tr>\n",
       "      <th>4</th>\n",
       "      <td>2021</td>\n",
       "      <td>1</td>\n",
       "      <td>2</td>\n",
       "      <td>Eixample</td>\n",
       "      <td>5</td>\n",
       "      <td>el Fort Pienc</td>\n",
       "      <td>Lloguer mitjà mensual (Euros/mes)</td>\n",
       "      <td>918.0</td>\n",
       "    </tr>\n",
       "    <tr>\n",
       "      <th>5</th>\n",
       "      <td>2021</td>\n",
       "      <td>1</td>\n",
       "      <td>2</td>\n",
       "      <td>Eixample</td>\n",
       "      <td>6</td>\n",
       "      <td>la Sagrada Família</td>\n",
       "      <td>Lloguer mitjà mensual (Euros/mes)</td>\n",
       "      <td>887.1</td>\n",
       "    </tr>\n",
       "    <tr>\n",
       "      <th>6</th>\n",
       "      <td>2021</td>\n",
       "      <td>1</td>\n",
       "      <td>2</td>\n",
       "      <td>Eixample</td>\n",
       "      <td>7</td>\n",
       "      <td>la Dreta de l'Eixample</td>\n",
       "      <td>Lloguer mitjà mensual (Euros/mes)</td>\n",
       "      <td>1176.7</td>\n",
       "    </tr>\n",
       "    <tr>\n",
       "      <th>7</th>\n",
       "      <td>2021</td>\n",
       "      <td>1</td>\n",
       "      <td>2</td>\n",
       "      <td>Eixample</td>\n",
       "      <td>8</td>\n",
       "      <td>l'Antiga Esquerra de l'Eixample</td>\n",
       "      <td>Lloguer mitjà mensual (Euros/mes)</td>\n",
       "      <td>1040.2</td>\n",
       "    </tr>\n",
       "    <tr>\n",
       "      <th>8</th>\n",
       "      <td>2021</td>\n",
       "      <td>1</td>\n",
       "      <td>2</td>\n",
       "      <td>Eixample</td>\n",
       "      <td>9</td>\n",
       "      <td>la Nova Esquerra de l'Eixample</td>\n",
       "      <td>Lloguer mitjà mensual (Euros/mes)</td>\n",
       "      <td>964.0</td>\n",
       "    </tr>\n",
       "    <tr>\n",
       "      <th>9</th>\n",
       "      <td>2021</td>\n",
       "      <td>1</td>\n",
       "      <td>2</td>\n",
       "      <td>Eixample</td>\n",
       "      <td>10</td>\n",
       "      <td>Sant Antoni</td>\n",
       "      <td>Lloguer mitjà mensual (Euros/mes)</td>\n",
       "      <td>898.7</td>\n",
       "    </tr>\n",
       "  </tbody>\n",
       "</table>\n",
       "</div>"
      ],
      "text/plain": [
       "    Any  Trimestre  Codi_Districte Nom_Districte  Codi_Barri  \\\n",
       "0  2021          1               1  Ciutat Vella           1   \n",
       "1  2021          1               1  Ciutat Vella           2   \n",
       "2  2021          1               1  Ciutat Vella           3   \n",
       "3  2021          1               1  Ciutat Vella           4   \n",
       "4  2021          1               2      Eixample           5   \n",
       "5  2021          1               2      Eixample           6   \n",
       "6  2021          1               2      Eixample           7   \n",
       "7  2021          1               2      Eixample           8   \n",
       "8  2021          1               2      Eixample           9   \n",
       "9  2021          1               2      Eixample          10   \n",
       "\n",
       "                               Nom_Barri                      Lloguer_mitja  \\\n",
       "0                               el Raval  Lloguer mitjà mensual (Euros/mes)   \n",
       "1                         el Barri Gòtic  Lloguer mitjà mensual (Euros/mes)   \n",
       "2                         la Barceloneta  Lloguer mitjà mensual (Euros/mes)   \n",
       "3  Sant Pere, Santa Caterina i la Ribera  Lloguer mitjà mensual (Euros/mes)   \n",
       "4                          el Fort Pienc  Lloguer mitjà mensual (Euros/mes)   \n",
       "5                     la Sagrada Família  Lloguer mitjà mensual (Euros/mes)   \n",
       "6                 la Dreta de l'Eixample  Lloguer mitjà mensual (Euros/mes)   \n",
       "7        l'Antiga Esquerra de l'Eixample  Lloguer mitjà mensual (Euros/mes)   \n",
       "8         la Nova Esquerra de l'Eixample  Lloguer mitjà mensual (Euros/mes)   \n",
       "9                            Sant Antoni  Lloguer mitjà mensual (Euros/mes)   \n",
       "\n",
       "     Preu  \n",
       "0   759.2  \n",
       "1   929.6  \n",
       "2   808.9  \n",
       "3   879.4  \n",
       "4   918.0  \n",
       "5   887.1  \n",
       "6  1176.7  \n",
       "7  1040.2  \n",
       "8   964.0  \n",
       "9   898.7  "
      ]
     },
     "execution_count": 16,
     "metadata": {},
     "output_type": "execute_result"
    }
   ],
   "source": [
    "# Mirem com ha quedat la taula.\n",
    "llog_mig.head(10)"
   ]
  },
  {
   "cell_type": "code",
   "execution_count": 17,
   "id": "4144ce5e",
   "metadata": {},
   "outputs": [
    {
     "data": {
      "text/plain": [
       "Any               0\n",
       "Trimestre         0\n",
       "Codi_Districte    0\n",
       "Nom_Districte     0\n",
       "Codi_Barri        0\n",
       "Nom_Barri         0\n",
       "Lloguer_mitja     0\n",
       "Preu              0\n",
       "dtype: int64"
      ]
     },
     "execution_count": 17,
     "metadata": {},
     "output_type": "execute_result"
    }
   ],
   "source": [
    "llog_mig.isnull().sum()"
   ]
  },
  {
   "cell_type": "code",
   "execution_count": 18,
   "id": "1d558936",
   "metadata": {},
   "outputs": [
    {
     "data": {
      "text/html": [
       "<div>\n",
       "<style scoped>\n",
       "    .dataframe tbody tr th:only-of-type {\n",
       "        vertical-align: middle;\n",
       "    }\n",
       "\n",
       "    .dataframe tbody tr th {\n",
       "        vertical-align: top;\n",
       "    }\n",
       "\n",
       "    .dataframe thead th {\n",
       "        text-align: right;\n",
       "    }\n",
       "</style>\n",
       "<table border=\"1\" class=\"dataframe\">\n",
       "  <thead>\n",
       "    <tr style=\"text-align: right;\">\n",
       "      <th></th>\n",
       "      <th>Any</th>\n",
       "      <th>Trimestre</th>\n",
       "      <th>Codi_Districte</th>\n",
       "      <th>Codi_Barri</th>\n",
       "      <th>Preu</th>\n",
       "    </tr>\n",
       "  </thead>\n",
       "  <tbody>\n",
       "    <tr>\n",
       "      <th>count</th>\n",
       "      <td>292.0</td>\n",
       "      <td>292.000000</td>\n",
       "      <td>292.000000</td>\n",
       "      <td>292.000000</td>\n",
       "      <td>292.000000</td>\n",
       "    </tr>\n",
       "    <tr>\n",
       "      <th>mean</th>\n",
       "      <td>2021.0</td>\n",
       "      <td>2.500000</td>\n",
       "      <td>6.246575</td>\n",
       "      <td>37.000000</td>\n",
       "      <td>833.188875</td>\n",
       "    </tr>\n",
       "    <tr>\n",
       "      <th>std</th>\n",
       "      <td>0.0</td>\n",
       "      <td>1.119953</td>\n",
       "      <td>2.793123</td>\n",
       "      <td>21.107481</td>\n",
       "      <td>251.896155</td>\n",
       "    </tr>\n",
       "    <tr>\n",
       "      <th>min</th>\n",
       "      <td>2021.0</td>\n",
       "      <td>1.000000</td>\n",
       "      <td>1.000000</td>\n",
       "      <td>1.000000</td>\n",
       "      <td>337.607500</td>\n",
       "    </tr>\n",
       "    <tr>\n",
       "      <th>25%</th>\n",
       "      <td>2021.0</td>\n",
       "      <td>1.750000</td>\n",
       "      <td>4.000000</td>\n",
       "      <td>19.000000</td>\n",
       "      <td>703.350000</td>\n",
       "    </tr>\n",
       "    <tr>\n",
       "      <th>50%</th>\n",
       "      <td>2021.0</td>\n",
       "      <td>2.500000</td>\n",
       "      <td>7.000000</td>\n",
       "      <td>37.000000</td>\n",
       "      <td>804.950000</td>\n",
       "    </tr>\n",
       "    <tr>\n",
       "      <th>75%</th>\n",
       "      <td>2021.0</td>\n",
       "      <td>3.250000</td>\n",
       "      <td>8.000000</td>\n",
       "      <td>55.000000</td>\n",
       "      <td>927.750000</td>\n",
       "    </tr>\n",
       "    <tr>\n",
       "      <th>max</th>\n",
       "      <td>2021.0</td>\n",
       "      <td>4.000000</td>\n",
       "      <td>10.000000</td>\n",
       "      <td>73.000000</td>\n",
       "      <td>1816.500000</td>\n",
       "    </tr>\n",
       "  </tbody>\n",
       "</table>\n",
       "</div>"
      ],
      "text/plain": [
       "          Any   Trimestre  Codi_Districte  Codi_Barri         Preu\n",
       "count   292.0  292.000000      292.000000  292.000000   292.000000\n",
       "mean   2021.0    2.500000        6.246575   37.000000   833.188875\n",
       "std       0.0    1.119953        2.793123   21.107481   251.896155\n",
       "min    2021.0    1.000000        1.000000    1.000000   337.607500\n",
       "25%    2021.0    1.750000        4.000000   19.000000   703.350000\n",
       "50%    2021.0    2.500000        7.000000   37.000000   804.950000\n",
       "75%    2021.0    3.250000        8.000000   55.000000   927.750000\n",
       "max    2021.0    4.000000       10.000000   73.000000  1816.500000"
      ]
     },
     "execution_count": 18,
     "metadata": {},
     "output_type": "execute_result"
    }
   ],
   "source": [
    "llog_mig.describe()"
   ]
  },
  {
   "cell_type": "markdown",
   "id": "2e3632f0",
   "metadata": {},
   "source": [
    "##### Llavors comencem  un altre cop."
   ]
  },
  {
   "cell_type": "markdown",
   "id": "1b7735b1",
   "metadata": {},
   "source": [
    "##### Dividim el dataframe de l'inici en dos. El primer el cridarem per 'llog_mitja' que contindrà només el 'Lloguer mitjà mensual (Euros/mes)'"
   ]
  },
  {
   "cell_type": "code",
   "execution_count": 19,
   "id": "bed14b32",
   "metadata": {},
   "outputs": [
    {
     "data": {
      "text/html": [
       "<div>\n",
       "<style scoped>\n",
       "    .dataframe tbody tr th:only-of-type {\n",
       "        vertical-align: middle;\n",
       "    }\n",
       "\n",
       "    .dataframe tbody tr th {\n",
       "        vertical-align: top;\n",
       "    }\n",
       "\n",
       "    .dataframe thead th {\n",
       "        text-align: right;\n",
       "    }\n",
       "</style>\n",
       "<table border=\"1\" class=\"dataframe\">\n",
       "  <thead>\n",
       "    <tr style=\"text-align: right;\">\n",
       "      <th></th>\n",
       "      <th>Any</th>\n",
       "      <th>Trimestre</th>\n",
       "      <th>Codi_Districte</th>\n",
       "      <th>Nom_Districte</th>\n",
       "      <th>Codi_Barri</th>\n",
       "      <th>Nom_Barri</th>\n",
       "      <th>Lloguer_mitja</th>\n",
       "      <th>Preu</th>\n",
       "    </tr>\n",
       "  </thead>\n",
       "  <tbody>\n",
       "    <tr>\n",
       "      <th>0</th>\n",
       "      <td>2021</td>\n",
       "      <td>1</td>\n",
       "      <td>1</td>\n",
       "      <td>Ciutat Vella</td>\n",
       "      <td>1</td>\n",
       "      <td>el Raval</td>\n",
       "      <td>Lloguer mitjà mensual (Euros/mes)</td>\n",
       "      <td>759.2</td>\n",
       "    </tr>\n",
       "    <tr>\n",
       "      <th>1</th>\n",
       "      <td>2021</td>\n",
       "      <td>1</td>\n",
       "      <td>1</td>\n",
       "      <td>Ciutat Vella</td>\n",
       "      <td>2</td>\n",
       "      <td>el Barri Gòtic</td>\n",
       "      <td>Lloguer mitjà mensual (Euros/mes)</td>\n",
       "      <td>929.6</td>\n",
       "    </tr>\n",
       "    <tr>\n",
       "      <th>2</th>\n",
       "      <td>2021</td>\n",
       "      <td>1</td>\n",
       "      <td>1</td>\n",
       "      <td>Ciutat Vella</td>\n",
       "      <td>3</td>\n",
       "      <td>la Barceloneta</td>\n",
       "      <td>Lloguer mitjà mensual (Euros/mes)</td>\n",
       "      <td>808.9</td>\n",
       "    </tr>\n",
       "    <tr>\n",
       "      <th>3</th>\n",
       "      <td>2021</td>\n",
       "      <td>1</td>\n",
       "      <td>1</td>\n",
       "      <td>Ciutat Vella</td>\n",
       "      <td>4</td>\n",
       "      <td>Sant Pere, Santa Caterina i la Ribera</td>\n",
       "      <td>Lloguer mitjà mensual (Euros/mes)</td>\n",
       "      <td>879.4</td>\n",
       "    </tr>\n",
       "    <tr>\n",
       "      <th>4</th>\n",
       "      <td>2021</td>\n",
       "      <td>1</td>\n",
       "      <td>2</td>\n",
       "      <td>Eixample</td>\n",
       "      <td>5</td>\n",
       "      <td>el Fort Pienc</td>\n",
       "      <td>Lloguer mitjà mensual (Euros/mes)</td>\n",
       "      <td>918.0</td>\n",
       "    </tr>\n",
       "    <tr>\n",
       "      <th>5</th>\n",
       "      <td>2021</td>\n",
       "      <td>1</td>\n",
       "      <td>2</td>\n",
       "      <td>Eixample</td>\n",
       "      <td>6</td>\n",
       "      <td>la Sagrada Família</td>\n",
       "      <td>Lloguer mitjà mensual (Euros/mes)</td>\n",
       "      <td>887.1</td>\n",
       "    </tr>\n",
       "    <tr>\n",
       "      <th>6</th>\n",
       "      <td>2021</td>\n",
       "      <td>1</td>\n",
       "      <td>2</td>\n",
       "      <td>Eixample</td>\n",
       "      <td>7</td>\n",
       "      <td>la Dreta de l'Eixample</td>\n",
       "      <td>Lloguer mitjà mensual (Euros/mes)</td>\n",
       "      <td>1176.7</td>\n",
       "    </tr>\n",
       "    <tr>\n",
       "      <th>7</th>\n",
       "      <td>2021</td>\n",
       "      <td>1</td>\n",
       "      <td>2</td>\n",
       "      <td>Eixample</td>\n",
       "      <td>8</td>\n",
       "      <td>l'Antiga Esquerra de l'Eixample</td>\n",
       "      <td>Lloguer mitjà mensual (Euros/mes)</td>\n",
       "      <td>1040.2</td>\n",
       "    </tr>\n",
       "    <tr>\n",
       "      <th>8</th>\n",
       "      <td>2021</td>\n",
       "      <td>1</td>\n",
       "      <td>2</td>\n",
       "      <td>Eixample</td>\n",
       "      <td>9</td>\n",
       "      <td>la Nova Esquerra de l'Eixample</td>\n",
       "      <td>Lloguer mitjà mensual (Euros/mes)</td>\n",
       "      <td>964.0</td>\n",
       "    </tr>\n",
       "    <tr>\n",
       "      <th>9</th>\n",
       "      <td>2021</td>\n",
       "      <td>1</td>\n",
       "      <td>2</td>\n",
       "      <td>Eixample</td>\n",
       "      <td>10</td>\n",
       "      <td>Sant Antoni</td>\n",
       "      <td>Lloguer mitjà mensual (Euros/mes)</td>\n",
       "      <td>898.7</td>\n",
       "    </tr>\n",
       "  </tbody>\n",
       "</table>\n",
       "</div>"
      ],
      "text/plain": [
       "    Any  Trimestre  Codi_Districte Nom_Districte  Codi_Barri  \\\n",
       "0  2021          1               1  Ciutat Vella           1   \n",
       "1  2021          1               1  Ciutat Vella           2   \n",
       "2  2021          1               1  Ciutat Vella           3   \n",
       "3  2021          1               1  Ciutat Vella           4   \n",
       "4  2021          1               2      Eixample           5   \n",
       "5  2021          1               2      Eixample           6   \n",
       "6  2021          1               2      Eixample           7   \n",
       "7  2021          1               2      Eixample           8   \n",
       "8  2021          1               2      Eixample           9   \n",
       "9  2021          1               2      Eixample          10   \n",
       "\n",
       "                               Nom_Barri                      Lloguer_mitja  \\\n",
       "0                               el Raval  Lloguer mitjà mensual (Euros/mes)   \n",
       "1                         el Barri Gòtic  Lloguer mitjà mensual (Euros/mes)   \n",
       "2                         la Barceloneta  Lloguer mitjà mensual (Euros/mes)   \n",
       "3  Sant Pere, Santa Caterina i la Ribera  Lloguer mitjà mensual (Euros/mes)   \n",
       "4                          el Fort Pienc  Lloguer mitjà mensual (Euros/mes)   \n",
       "5                     la Sagrada Família  Lloguer mitjà mensual (Euros/mes)   \n",
       "6                 la Dreta de l'Eixample  Lloguer mitjà mensual (Euros/mes)   \n",
       "7        l'Antiga Esquerra de l'Eixample  Lloguer mitjà mensual (Euros/mes)   \n",
       "8         la Nova Esquerra de l'Eixample  Lloguer mitjà mensual (Euros/mes)   \n",
       "9                            Sant Antoni  Lloguer mitjà mensual (Euros/mes)   \n",
       "\n",
       "     Preu  \n",
       "0   759.2  \n",
       "1   929.6  \n",
       "2   808.9  \n",
       "3   879.4  \n",
       "4   918.0  \n",
       "5   887.1  \n",
       "6  1176.7  \n",
       "7  1040.2  \n",
       "8   964.0  \n",
       "9   898.7  "
      ]
     },
     "execution_count": 19,
     "metadata": {},
     "output_type": "execute_result"
    }
   ],
   "source": [
    "llog_mitja = df.loc[df['Lloguer_mitja'] == 'Lloguer mitjà mensual (Euros/mes)']\n",
    "llog_mitja.head(10)"
   ]
  },
  {
   "cell_type": "code",
   "execution_count": 20,
   "id": "b5c4d46a",
   "metadata": {},
   "outputs": [
    {
     "data": {
      "text/plain": [
       "Any                0\n",
       "Trimestre          0\n",
       "Codi_Districte     0\n",
       "Nom_Districte      0\n",
       "Codi_Barri         0\n",
       "Nom_Barri          0\n",
       "Lloguer_mitja      0\n",
       "Preu              22\n",
       "dtype: int64"
      ]
     },
     "execution_count": 20,
     "metadata": {},
     "output_type": "execute_result"
    }
   ],
   "source": [
    "# amb nan's\n",
    "llog_mitja.isnull().sum()"
   ]
  },
  {
   "cell_type": "code",
   "execution_count": 21,
   "id": "2d63d111",
   "metadata": {},
   "outputs": [
    {
     "data": {
      "text/plain": [
       "Any               0\n",
       "Trimestre         0\n",
       "Codi_Districte    0\n",
       "Nom_Districte     0\n",
       "Codi_Barri        0\n",
       "Nom_Barri         0\n",
       "Lloguer_mitja     0\n",
       "Preu              0\n",
       "dtype: int64"
      ]
     },
     "execution_count": 21,
     "metadata": {},
     "output_type": "execute_result"
    }
   ],
   "source": [
    "#sense nan's\n",
    "llog_mitja = llog_mitja.dropna()\n",
    "llog_mitja.isnull().sum()"
   ]
  },
  {
   "cell_type": "markdown",
   "id": "b1128d20",
   "metadata": {},
   "source": [
    "##### Com que no hem tocat el segon dataframe, llavors el farem servir."
   ]
  },
  {
   "cell_type": "code",
   "execution_count": 22,
   "id": "957911c9",
   "metadata": {},
   "outputs": [
    {
     "data": {
      "text/plain": [
       "Any                0\n",
       "Trimestre          0\n",
       "Codi_Districte     0\n",
       "Nom_Districte      0\n",
       "Codi_Barri         0\n",
       "Nom_Barri          0\n",
       "Lloguer_mitja      0\n",
       "Preu              22\n",
       "dtype: int64"
      ]
     },
     "execution_count": 22,
     "metadata": {},
     "output_type": "execute_result"
    }
   ],
   "source": [
    "# amb nan's\n",
    "llog_m2.isnull().sum()"
   ]
  },
  {
   "cell_type": "code",
   "execution_count": 23,
   "id": "a643fe50",
   "metadata": {
    "scrolled": true
   },
   "outputs": [
    {
     "data": {
      "text/plain": [
       "Any               0\n",
       "Trimestre         0\n",
       "Codi_Districte    0\n",
       "Nom_Districte     0\n",
       "Codi_Barri        0\n",
       "Nom_Barri         0\n",
       "Lloguer_mitja     0\n",
       "Preu              0\n",
       "dtype: int64"
      ]
     },
     "execution_count": 23,
     "metadata": {},
     "output_type": "execute_result"
    }
   ],
   "source": [
    "# sense nan's\n",
    "llog_m2 = llog_m2.dropna()\n",
    "llog_m2.isnull().sum()"
   ]
  },
  {
   "cell_type": "markdown",
   "id": "a5231758",
   "metadata": {},
   "source": [
    "#### Resumen estadístic general 'Lloguer Mitjà mensual'"
   ]
  },
  {
   "cell_type": "code",
   "execution_count": 24,
   "id": "f520e631",
   "metadata": {},
   "outputs": [
    {
     "data": {
      "text/html": [
       "<div>\n",
       "<style scoped>\n",
       "    .dataframe tbody tr th:only-of-type {\n",
       "        vertical-align: middle;\n",
       "    }\n",
       "\n",
       "    .dataframe tbody tr th {\n",
       "        vertical-align: top;\n",
       "    }\n",
       "\n",
       "    .dataframe thead th {\n",
       "        text-align: right;\n",
       "    }\n",
       "</style>\n",
       "<table border=\"1\" class=\"dataframe\">\n",
       "  <thead>\n",
       "    <tr style=\"text-align: right;\">\n",
       "      <th></th>\n",
       "      <th>Any</th>\n",
       "      <th>Trimestre</th>\n",
       "      <th>Codi_Districte</th>\n",
       "      <th>Nom_Districte</th>\n",
       "      <th>Codi_Barri</th>\n",
       "      <th>Nom_Barri</th>\n",
       "      <th>Lloguer_mitja</th>\n",
       "      <th>Preu</th>\n",
       "    </tr>\n",
       "  </thead>\n",
       "  <tbody>\n",
       "    <tr>\n",
       "      <th>count</th>\n",
       "      <td>270.0</td>\n",
       "      <td>270.000000</td>\n",
       "      <td>270.000000</td>\n",
       "      <td>270</td>\n",
       "      <td>270.000000</td>\n",
       "      <td>270</td>\n",
       "      <td>270</td>\n",
       "      <td>270.000000</td>\n",
       "    </tr>\n",
       "    <tr>\n",
       "      <th>unique</th>\n",
       "      <td>NaN</td>\n",
       "      <td>NaN</td>\n",
       "      <td>NaN</td>\n",
       "      <td>10</td>\n",
       "      <td>NaN</td>\n",
       "      <td>68</td>\n",
       "      <td>1</td>\n",
       "      <td>NaN</td>\n",
       "    </tr>\n",
       "    <tr>\n",
       "      <th>top</th>\n",
       "      <td>NaN</td>\n",
       "      <td>NaN</td>\n",
       "      <td>NaN</td>\n",
       "      <td>Horta-Guinardó</td>\n",
       "      <td>NaN</td>\n",
       "      <td>el Raval</td>\n",
       "      <td>Lloguer mitjà mensual (Euros/mes)</td>\n",
       "      <td>NaN</td>\n",
       "    </tr>\n",
       "    <tr>\n",
       "      <th>freq</th>\n",
       "      <td>NaN</td>\n",
       "      <td>NaN</td>\n",
       "      <td>NaN</td>\n",
       "      <td>40</td>\n",
       "      <td>NaN</td>\n",
       "      <td>4</td>\n",
       "      <td>270</td>\n",
       "      <td>NaN</td>\n",
       "    </tr>\n",
       "    <tr>\n",
       "      <th>mean</th>\n",
       "      <td>2021.0</td>\n",
       "      <td>2.503704</td>\n",
       "      <td>6.185185</td>\n",
       "      <td>NaN</td>\n",
       "      <td>36.459259</td>\n",
       "      <td>NaN</td>\n",
       "      <td>NaN</td>\n",
       "      <td>871.593704</td>\n",
       "    </tr>\n",
       "    <tr>\n",
       "      <th>std</th>\n",
       "      <td>0.0</td>\n",
       "      <td>1.120104</td>\n",
       "      <td>2.842024</td>\n",
       "      <td>NaN</td>\n",
       "      <td>21.390949</td>\n",
       "      <td>NaN</td>\n",
       "      <td>NaN</td>\n",
       "      <td>221.192799</td>\n",
       "    </tr>\n",
       "    <tr>\n",
       "      <th>min</th>\n",
       "      <td>2021.0</td>\n",
       "      <td>1.000000</td>\n",
       "      <td>1.000000</td>\n",
       "      <td>NaN</td>\n",
       "      <td>1.000000</td>\n",
       "      <td>NaN</td>\n",
       "      <td>NaN</td>\n",
       "      <td>447.500000</td>\n",
       "    </tr>\n",
       "    <tr>\n",
       "      <th>25%</th>\n",
       "      <td>2021.0</td>\n",
       "      <td>2.000000</td>\n",
       "      <td>3.250000</td>\n",
       "      <td>NaN</td>\n",
       "      <td>18.250000</td>\n",
       "      <td>NaN</td>\n",
       "      <td>NaN</td>\n",
       "      <td>742.475000</td>\n",
       "    </tr>\n",
       "    <tr>\n",
       "      <th>50%</th>\n",
       "      <td>2021.0</td>\n",
       "      <td>2.500000</td>\n",
       "      <td>7.000000</td>\n",
       "      <td>NaN</td>\n",
       "      <td>35.000000</td>\n",
       "      <td>NaN</td>\n",
       "      <td>NaN</td>\n",
       "      <td>816.350000</td>\n",
       "    </tr>\n",
       "    <tr>\n",
       "      <th>75%</th>\n",
       "      <td>2021.0</td>\n",
       "      <td>3.750000</td>\n",
       "      <td>8.000000</td>\n",
       "      <td>NaN</td>\n",
       "      <td>55.000000</td>\n",
       "      <td>NaN</td>\n",
       "      <td>NaN</td>\n",
       "      <td>934.525000</td>\n",
       "    </tr>\n",
       "    <tr>\n",
       "      <th>max</th>\n",
       "      <td>2021.0</td>\n",
       "      <td>4.000000</td>\n",
       "      <td>10.000000</td>\n",
       "      <td>NaN</td>\n",
       "      <td>73.000000</td>\n",
       "      <td>NaN</td>\n",
       "      <td>NaN</td>\n",
       "      <td>1816.500000</td>\n",
       "    </tr>\n",
       "  </tbody>\n",
       "</table>\n",
       "</div>"
      ],
      "text/plain": [
       "           Any   Trimestre  Codi_Districte   Nom_Districte  Codi_Barri  \\\n",
       "count    270.0  270.000000      270.000000             270  270.000000   \n",
       "unique     NaN         NaN             NaN              10         NaN   \n",
       "top        NaN         NaN             NaN  Horta-Guinardó         NaN   \n",
       "freq       NaN         NaN             NaN              40         NaN   \n",
       "mean    2021.0    2.503704        6.185185             NaN   36.459259   \n",
       "std        0.0    1.120104        2.842024             NaN   21.390949   \n",
       "min     2021.0    1.000000        1.000000             NaN    1.000000   \n",
       "25%     2021.0    2.000000        3.250000             NaN   18.250000   \n",
       "50%     2021.0    2.500000        7.000000             NaN   35.000000   \n",
       "75%     2021.0    3.750000        8.000000             NaN   55.000000   \n",
       "max     2021.0    4.000000       10.000000             NaN   73.000000   \n",
       "\n",
       "       Nom_Barri                      Lloguer_mitja         Preu  \n",
       "count        270                                270   270.000000  \n",
       "unique        68                                  1          NaN  \n",
       "top     el Raval  Lloguer mitjà mensual (Euros/mes)          NaN  \n",
       "freq           4                                270          NaN  \n",
       "mean         NaN                                NaN   871.593704  \n",
       "std          NaN                                NaN   221.192799  \n",
       "min          NaN                                NaN   447.500000  \n",
       "25%          NaN                                NaN   742.475000  \n",
       "50%          NaN                                NaN   816.350000  \n",
       "75%          NaN                                NaN   934.525000  \n",
       "max          NaN                                NaN  1816.500000  "
      ]
     },
     "execution_count": 24,
     "metadata": {},
     "output_type": "execute_result"
    }
   ],
   "source": [
    "llog_mitja.describe(include='all')"
   ]
  },
  {
   "cell_type": "markdown",
   "id": "ec7bbb65",
   "metadata": {},
   "source": [
    "1. El dataframe que descriu el 'Lloguer mitjà mensual (Euros/mes)' té 270 registres distribuits en 10 districtes i 68 barris. El districte que més és repeteix és Horta-Guinardó (40 cops), mentre que El Raval és el barri més frequent (4 cops)\n",
    "2. La mitjà de tots el preus de lloguer mensual de la mostra arriben a 871.59 euros.\n",
    "3. El preu de lloguer mensual promig més alt arribe a 1816.5 euros i el més baix és de 221,19 euros, amb un rang de 1595.31 euros.\n",
    "4. Finalment la desviació stàndar de les dades és de 221 euros, amb el que podriem dir que aquesta desviació és petita, sobretot considerant la mitjà de 871,59 euros i que el 75% de les dades no supera els 934.5 euros de lloguer mensual.\n"
   ]
  },
  {
   "cell_type": "markdown",
   "id": "7354f900",
   "metadata": {},
   "source": [
    "#### Resumen estadístic general 'Lloguer mitjà per superfície (Euros/m2 mes)'"
   ]
  },
  {
   "cell_type": "code",
   "execution_count": 25,
   "id": "bd50c507",
   "metadata": {},
   "outputs": [
    {
     "data": {
      "text/html": [
       "<div>\n",
       "<style scoped>\n",
       "    .dataframe tbody tr th:only-of-type {\n",
       "        vertical-align: middle;\n",
       "    }\n",
       "\n",
       "    .dataframe tbody tr th {\n",
       "        vertical-align: top;\n",
       "    }\n",
       "\n",
       "    .dataframe thead th {\n",
       "        text-align: right;\n",
       "    }\n",
       "</style>\n",
       "<table border=\"1\" class=\"dataframe\">\n",
       "  <thead>\n",
       "    <tr style=\"text-align: right;\">\n",
       "      <th></th>\n",
       "      <th>Any</th>\n",
       "      <th>Trimestre</th>\n",
       "      <th>Codi_Districte</th>\n",
       "      <th>Nom_Districte</th>\n",
       "      <th>Codi_Barri</th>\n",
       "      <th>Nom_Barri</th>\n",
       "      <th>Lloguer_mitja</th>\n",
       "      <th>Preu</th>\n",
       "    </tr>\n",
       "  </thead>\n",
       "  <tbody>\n",
       "    <tr>\n",
       "      <th>count</th>\n",
       "      <td>270.0</td>\n",
       "      <td>270.000000</td>\n",
       "      <td>270.000000</td>\n",
       "      <td>270</td>\n",
       "      <td>270.000000</td>\n",
       "      <td>270</td>\n",
       "      <td>270</td>\n",
       "      <td>270.000000</td>\n",
       "    </tr>\n",
       "    <tr>\n",
       "      <th>unique</th>\n",
       "      <td>NaN</td>\n",
       "      <td>NaN</td>\n",
       "      <td>NaN</td>\n",
       "      <td>10</td>\n",
       "      <td>NaN</td>\n",
       "      <td>68</td>\n",
       "      <td>1</td>\n",
       "      <td>NaN</td>\n",
       "    </tr>\n",
       "    <tr>\n",
       "      <th>top</th>\n",
       "      <td>NaN</td>\n",
       "      <td>NaN</td>\n",
       "      <td>NaN</td>\n",
       "      <td>Horta-Guinardó</td>\n",
       "      <td>NaN</td>\n",
       "      <td>el Raval</td>\n",
       "      <td>Lloguer mitjà per superfície (Euros/m2 mes)</td>\n",
       "      <td>NaN</td>\n",
       "    </tr>\n",
       "    <tr>\n",
       "      <th>freq</th>\n",
       "      <td>NaN</td>\n",
       "      <td>NaN</td>\n",
       "      <td>NaN</td>\n",
       "      <td>40</td>\n",
       "      <td>NaN</td>\n",
       "      <td>4</td>\n",
       "      <td>270</td>\n",
       "      <td>NaN</td>\n",
       "    </tr>\n",
       "    <tr>\n",
       "      <th>mean</th>\n",
       "      <td>2021.0</td>\n",
       "      <td>2.503704</td>\n",
       "      <td>6.185185</td>\n",
       "      <td>NaN</td>\n",
       "      <td>36.459259</td>\n",
       "      <td>NaN</td>\n",
       "      <td>NaN</td>\n",
       "      <td>12.720741</td>\n",
       "    </tr>\n",
       "    <tr>\n",
       "      <th>std</th>\n",
       "      <td>0.0</td>\n",
       "      <td>1.120104</td>\n",
       "      <td>2.842024</td>\n",
       "      <td>NaN</td>\n",
       "      <td>21.390949</td>\n",
       "      <td>NaN</td>\n",
       "      <td>NaN</td>\n",
       "      <td>1.701480</td>\n",
       "    </tr>\n",
       "    <tr>\n",
       "      <th>min</th>\n",
       "      <td>2021.0</td>\n",
       "      <td>1.000000</td>\n",
       "      <td>1.000000</td>\n",
       "      <td>NaN</td>\n",
       "      <td>1.000000</td>\n",
       "      <td>NaN</td>\n",
       "      <td>NaN</td>\n",
       "      <td>6.700000</td>\n",
       "    </tr>\n",
       "    <tr>\n",
       "      <th>25%</th>\n",
       "      <td>2021.0</td>\n",
       "      <td>2.000000</td>\n",
       "      <td>3.250000</td>\n",
       "      <td>NaN</td>\n",
       "      <td>18.250000</td>\n",
       "      <td>NaN</td>\n",
       "      <td>NaN</td>\n",
       "      <td>11.625000</td>\n",
       "    </tr>\n",
       "    <tr>\n",
       "      <th>50%</th>\n",
       "      <td>2021.0</td>\n",
       "      <td>2.500000</td>\n",
       "      <td>7.000000</td>\n",
       "      <td>NaN</td>\n",
       "      <td>35.000000</td>\n",
       "      <td>NaN</td>\n",
       "      <td>NaN</td>\n",
       "      <td>12.750000</td>\n",
       "    </tr>\n",
       "    <tr>\n",
       "      <th>75%</th>\n",
       "      <td>2021.0</td>\n",
       "      <td>3.750000</td>\n",
       "      <td>8.000000</td>\n",
       "      <td>NaN</td>\n",
       "      <td>55.000000</td>\n",
       "      <td>NaN</td>\n",
       "      <td>NaN</td>\n",
       "      <td>13.600000</td>\n",
       "    </tr>\n",
       "    <tr>\n",
       "      <th>max</th>\n",
       "      <td>2021.0</td>\n",
       "      <td>4.000000</td>\n",
       "      <td>10.000000</td>\n",
       "      <td>NaN</td>\n",
       "      <td>73.000000</td>\n",
       "      <td>NaN</td>\n",
       "      <td>NaN</td>\n",
       "      <td>18.000000</td>\n",
       "    </tr>\n",
       "  </tbody>\n",
       "</table>\n",
       "</div>"
      ],
      "text/plain": [
       "           Any   Trimestre  Codi_Districte   Nom_Districte  Codi_Barri  \\\n",
       "count    270.0  270.000000      270.000000             270  270.000000   \n",
       "unique     NaN         NaN             NaN              10         NaN   \n",
       "top        NaN         NaN             NaN  Horta-Guinardó         NaN   \n",
       "freq       NaN         NaN             NaN              40         NaN   \n",
       "mean    2021.0    2.503704        6.185185             NaN   36.459259   \n",
       "std        0.0    1.120104        2.842024             NaN   21.390949   \n",
       "min     2021.0    1.000000        1.000000             NaN    1.000000   \n",
       "25%     2021.0    2.000000        3.250000             NaN   18.250000   \n",
       "50%     2021.0    2.500000        7.000000             NaN   35.000000   \n",
       "75%     2021.0    3.750000        8.000000             NaN   55.000000   \n",
       "max     2021.0    4.000000       10.000000             NaN   73.000000   \n",
       "\n",
       "       Nom_Barri                                Lloguer_mitja        Preu  \n",
       "count        270                                          270  270.000000  \n",
       "unique        68                                            1         NaN  \n",
       "top     el Raval  Lloguer mitjà per superfície (Euros/m2 mes)         NaN  \n",
       "freq           4                                          270         NaN  \n",
       "mean         NaN                                          NaN   12.720741  \n",
       "std          NaN                                          NaN    1.701480  \n",
       "min          NaN                                          NaN    6.700000  \n",
       "25%          NaN                                          NaN   11.625000  \n",
       "50%          NaN                                          NaN   12.750000  \n",
       "75%          NaN                                          NaN   13.600000  \n",
       "max          NaN                                          NaN   18.000000  "
      ]
     },
     "execution_count": 25,
     "metadata": {},
     "output_type": "execute_result"
    }
   ],
   "source": [
    "llog_m2.describe(include='all')"
   ]
  },
  {
   "cell_type": "markdown",
   "id": "58e21739",
   "metadata": {},
   "source": [
    "1. El dataframe que descriu el 'Lloguer mitjà per superfície (Euros/m2 mes)', ens parla d'una mesura del valor del sòl segons quins barri i quins districte. Aquest dataframe té 270 registres (els metixos que 'llog_mig') distribuits en 10 districtes i 68 barris. El districte que més és repeteix és Horta-Guinardó (40 cops), mentre que El Raval és el barri més frequent (4 cops)\n",
    "2. La mitjà de tots el preus per m2 de la mostra arriben a 12.72 euros.\n",
    "3. El preu del m2 mensual més alt arribe a 18 euros i el més baix és de 6.7 euros, amb un rang de 11.3 euros.\n",
    "4. Finalment la desviació stàndar de les dades és 1.7 euros, amb el que podriem dir el igual que en el data frame anterior que aquesta desviació és petita, sobretot considerant la mitjà de 12.72 euros i que el 75% de les dades no supera els 13.6 euros de lloguer per m2.\n"
   ]
  },
  {
   "cell_type": "markdown",
   "id": "c22b4073",
   "metadata": {},
   "source": [
    "## Crea almenys una visualització per:\n",
    "\n",
    "### 1. Una variable categòrica (Districte o Barri)"
   ]
  },
  {
   "cell_type": "markdown",
   "id": "6aee4e8d",
   "metadata": {},
   "source": [
    "##### Per aquest primer exercici en particular farem servir el dataframe original que compta amb tots els 584 registres"
   ]
  },
  {
   "cell_type": "code",
   "execution_count": 26,
   "id": "569cd8ae",
   "metadata": {},
   "outputs": [
    {
     "data": {
      "image/png": "[encoded data removed]",
      "text/plain": [
       "<Figure size 432x288 with 1 Axes>"
      ]
     },
     "metadata": {
      "needs_background": "light"
     },
     "output_type": "display_data"
    }
   ],
   "source": [
    "# Creem la variable a representar. Freqüencia de districtes a la ciutat de Barcelona.\n",
    "freq_distr = df['Nom_Districte'].value_counts()\n",
    "\n",
    "# Per començar creem una figura buida i dos objectes: figures i axes.\n",
    "fig, ax = plt.subplots()\n",
    "\n",
    "# Cridem un gráfic de barras amb posició vertical. Aquí assignarem el color amb notació hexadecimal.\n",
    "ax.bar(freq_distr.index, freq_distr.values, color='#B2F05E')\n",
    "\n",
    "# Hem de rotar la posicióde les etiquetes en 90 graus perquè es puguin veure bé. \n",
    "plt.xticks(rotation=90)\n",
    "\n",
    "ax.set_title('Freqüencia de dades per Districte', fontsize=16)\n",
    "ax.set_xlabel('Noms del Districtes')\n",
    "ax.set_ylabel('Quantitat de Districtes')\n",
    "plt.savefig('Freq_distr_bar.png')\n",
    "\n",
    "plt.show()"
   ]
  },
  {
   "cell_type": "markdown",
   "id": "e01e940c",
   "metadata": {},
   "source": [
    "##### Ara farem el mateix però en un gràfic horitzontal. Aquí, ja no necessitarem rotar les etiquetes en 90 graus perquè per la seva posició per defecte i el llarg dels noms és veuren bé."
   ]
  },
  {
   "cell_type": "code",
   "execution_count": 27,
   "id": "e43abf92",
   "metadata": {},
   "outputs": [
    {
     "data": {
      "image/png": "[encoded data removed]",
      "text/plain": [
       "<Figure size 432x288 with 1 Axes>"
      ]
     },
     "metadata": {
      "needs_background": "light"
     },
     "output_type": "display_data"
    }
   ],
   "source": [
    "freq_distr = df['Nom_Districte'].value_counts()\n",
    "\n",
    "fig, ax = plt.subplots()\n",
    "\n",
    "ax.barh(freq_distr.index, freq_distr.values, height=0.6, color='#FFE4C4')\n",
    "ax.set_title('Freqüencia de dades per Districte', fontsize=16)\n",
    "ax.set_xlabel('Quantitat de Districtes')\n",
    "ax.set_ylabel('Noms del Districtes')\n",
    "plt.savefig('Freq_distr_barh.png')\n",
    "\n",
    "plt.show()\n"
   ]
  },
  {
   "cell_type": "markdown",
   "id": "8ce7d05b",
   "metadata": {},
   "source": [
    "### Comentaris dels gráfics\n",
    "\n",
    "1. Hem fet dos gràfics de barres (vertical i horitzontal respectivament), posant les característiques més sencilles per representar/graficar una variable categòrica, com ho és la freqüencia de districtes d'un dataframe.\n",
    "\n",
    "2. Les dues gràfiques corroboren que la 'moda' o 'top' de les dades pel dataset \"df\", correspon el districte de Nou barris amb més de 100 aparicions.\n",
    "\n",
    "3. La resta de les dades també corroboren la distribució normal del dataset amb una petita desviació stàndar, posant el districte de Les Corts com el que menys aparacions té en el dataset original.\n",
    "\n",
    "4. Potser el gràfic vertical resulta el més intuïtiu de llegir per dir-ho d'alguna manera, malgrat això els dos gràfics són una molt bona manera de visualització per representar dades categòriques com aquestes."
   ]
  },
  {
   "cell_type": "markdown",
   "id": "053d86f4",
   "metadata": {},
   "source": [
    "### 2. Representa una variable numèrica (Preu)"
   ]
  },
  {
   "cell_type": "markdown",
   "id": "fbb156f7",
   "metadata": {},
   "source": [
    "##### Representarem els preus de lloguer mitjà mensual i desprès el mateix però per superficie (m2)"
   ]
  },
  {
   "cell_type": "code",
   "execution_count": 28,
   "id": "afb10456",
   "metadata": {
    "scrolled": true
   },
   "outputs": [
    {
     "data": {
      "image/png": "[encoded data removed]",
      "text/plain": [
       "<Figure size 504x288 with 1 Axes>"
      ]
     },
     "metadata": {
      "needs_background": "light"
     },
     "output_type": "display_data"
    }
   ],
   "source": [
    "fig, ax = plt.subplots(figsize=(7,4))\n",
    "\n",
    "\n",
    "sns.kdeplot(llog_mitja['Preu'], shade=True, color='#EF8154')\n",
    "sns.set(style= \"whitegrid\")\n",
    "plt.title('Concentració de preus de lloguer Mensual', size=15)\n",
    "plt.ylabel('Intensitat de la concentració')\n",
    "plt.xlabel('Mitjà en (€)')\n",
    "plt.savefig('dens_preus_llog.png')\n",
    "\n",
    "plt.show()"
   ]
  },
  {
   "cell_type": "markdown",
   "id": "ce23207f",
   "metadata": {},
   "source": [
    "### Comentaris del gráfic\n",
    "\n",
    "1. Hem fet servir en aquesta oportunitat la llibrería Seaborn. A través del seu gràfic de densidad hem pogut visualitzar on es produeix la major concentració o densitat de preus de lloguer del dataframe 'llog_mitja'.\n",
    "2. Aquest és un exemple senzill però molt potent que ens parla que els preus de lloguer mensual están el voltant dels 800 euros\n",
    "3. Desprès de la gran concentració de preus el voltant dels 800 euros, podem identificar una altra petita concentració de pisos \"cars\", on els preus tenen una mitjà entre 1100 i 1300 euros."
   ]
  },
  {
   "cell_type": "code",
   "execution_count": 29,
   "id": "8ae4e36a",
   "metadata": {},
   "outputs": [
    {
     "data": {
      "image/png": "[encoded data removed]",
      "text/plain": [
       "<Figure size 504x288 with 1 Axes>"
      ]
     },
     "metadata": {},
     "output_type": "display_data"
    }
   ],
   "source": [
    "fig, ax = plt.subplots(figsize=(7,4))\n",
    "\n",
    "\n",
    "sns.kdeplot(llog_m2['Preu'], shade=True, color='#EF8154')\n",
    "sns.set(style= \"whitegrid\")\n",
    "plt.title('Concentració de preus de lloguer mitjà per superficie (€/m2)', size=15)\n",
    "plt.ylabel('Intensitat de la concentració')\n",
    "plt.xlabel('Mitjà en (€)')\n",
    "plt.savefig('dens_m2_llog.png')\n",
    "\n",
    "\n",
    "plt.show()"
   ]
  },
  {
   "cell_type": "markdown",
   "id": "6bc0cb85",
   "metadata": {},
   "source": [
    "### Comentaris del gráfic\n",
    "\n",
    "1. Aquest gràfic ens permèt visualitzar els preus mensuals de lloguer per metre quadrat. És a dir, amb això tenim una mesura del valor del sòl d'un lloc determinat. El igual que en el gràfic per lloguer mensual aquí tenim una concentració molt clara el voltant dels 13 euros de lloguer mensual per metre quadrat.\n",
    "2. En els dos gràfics veiem una distribució bastant normal de les dades, semblant el que podria ser una gaussiana."
   ]
  },
  {
   "cell_type": "markdown",
   "id": "5f669f74",
   "metadata": {},
   "source": [
    "### 3. Una variable numèrica i una categòrica (Districte i Preu)"
   ]
  },
  {
   "cell_type": "markdown",
   "id": "281c1a90",
   "metadata": {},
   "source": [
    "##### Per graficar aquestes dues columnes cridarem una gràfrica de Seaborn que és diu boxplot"
   ]
  },
  {
   "cell_type": "code",
   "execution_count": 30,
   "id": "21730ccb",
   "metadata": {},
   "outputs": [
    {
     "data": {
      "image/png": "[encoded data removed]",
      "text/plain": [
       "<Figure size 864x432 with 1 Axes>"
      ]
     },
     "metadata": {},
     "output_type": "display_data"
    }
   ],
   "source": [
    "fig, ax = plt.subplots(figsize=(12,6))\n",
    "\n",
    "sns.boxplot(x=llog_mig['Nom_Districte'], y=llog_mig['Preu'], data=llog_mitja)\n",
    "plt.title('Preu lloguer mitjà per districte', size=18)\n",
    "plt.ylabel('Preu en (€)', fontsize=14)\n",
    "plt.xlabel('Noms Districtes', fontsize=14)\n",
    "plt.xticks(fontsize=13, rotation = 60)\n",
    "plt.savefig('stripplot_llog_mitja_mensual.png')\n",
    "\n",
    "plt.show()"
   ]
  },
  {
   "cell_type": "markdown",
   "id": "79d69897",
   "metadata": {},
   "source": [
    "### Comentaris del gráfic\n",
    "\n",
    "1. El gràfic de caixa anterior ens permetre conèixer molta informació en només una visualització. Per una banda, podem veure que la majoria de les dades de preus de lloguer mitjà dels districtes, es concentra entre els 700 i 1000 euros. Districtes com Ciutat Vella, Horta Guinardó, San Martí, Gràcia o Sants-Montjuïc presentan una dispersió de les seves dades força simètrica i normal. D'un altra banda com Les Corts, Eixample, Nou Barris o Sant Andreu ens parlen de distribucions asimètriques en el menys el 50% central de les seves dades.  \n",
    "2. Si mirem casos específics podem analitzar Les Corts. Aquest districte, és el cas més atípic de tota la mostra si ens basem només en aquest tipus de gràfic. Aquest districte té una distribució asimètrica i amb una dispersió important de les seves dades. El segon quartil porta una distribució concentrada entre els 950 euros i els 1000/1050 euros. Mentre que, el tercer quartil distribueix les seves dades entre els 1050 euros i els 1600. La mitjana de les dades es queda en els 1050 euros i el quart quartil estén encara més la dispersió arribant fins els 1800 euros. Aquesta distribució guarda relació amb el territori, on podem veure barris de classe mitjana el voltant de carrer Berlín i classe alta com Pedralbes.\n",
    "3. També podem veure valors atípics a Sants-Montjüic, Gràcia,Horta i Sant Andreu, la majoria aprop del primer quartil.\n",
    "4. Sens dubte els districtes més cars són Les Corts i Sarrià-Sant Gervasi. Aquests dos districtes tenen una diferència en la seva distribució. Perqué, Sarrià-Sant Gervasi presenta una distribució bastant simétrica on la mitjana és molt aprop de la mitjà i les dades entre tots els quartils, presenten una distribució proporcional i simètrica."
   ]
  },
  {
   "cell_type": "markdown",
   "id": "8f7856de",
   "metadata": {},
   "source": [
    "### Dues variables numèriques (Any o Trimestre i Preu)"
   ]
  },
  {
   "cell_type": "code",
   "execution_count": 31,
   "id": "2d4f19ad",
   "metadata": {},
   "outputs": [
    {
     "data": {
      "image/png": "[encoded data removed]",
      "text/plain": [
       "<Figure size 720x432 with 1 Axes>"
      ]
     },
     "metadata": {},
     "output_type": "display_data"
    }
   ],
   "source": [
    "fig, ax = plt.subplots(figsize=(10,6))\n",
    "\n",
    "\n",
    "sns.stripplot(x= 'Trimestre', y= 'Preu', data= llog_mitja, palette='Paired')\n",
    "plt.title('Distribució Preu lloguer mitjà mensual', size=18)\n",
    "plt.xticks(np.arange(4),('1T', '2T', '3T', '4T'), fontsize=12)\n",
    "plt.xlabel('Trimestres',fontsize=15)\n",
    "plt.ylabel('Preus Lloguer Mitjà mensual (€)',fontsize=14)\n",
    "plt.savefig('stripplot_Trimestre.png')\n",
    "plt.show()"
   ]
  },
  {
   "cell_type": "markdown",
   "id": "73b85adb",
   "metadata": {},
   "source": [
    "### Comentaris del gràfic\n",
    "\n",
    "1. El gráfic stripplot ens mostra que la distribució per trimestre no canvia gaire. També és pot interpretar que el dividir el dataset sencer en quatre és perd potencia de la visualització, pot ser per ser massa pocs punts. Veurem que passa amb el datset sencer per any."
   ]
  },
  {
   "cell_type": "code",
   "execution_count": 32,
   "id": "6f3f8b86",
   "metadata": {},
   "outputs": [
    {
     "data": {
      "image/png": "[encoded data removed]",
      "text/plain": [
       "<Figure size 432x360 with 1 Axes>"
      ]
     },
     "metadata": {},
     "output_type": "display_data"
    }
   ],
   "source": [
    "fig, ax = plt.subplots(figsize=(6,5))\n",
    "\n",
    "\n",
    "sns.stripplot(x= 'Any', y= 'Preu', data= llog_mitja, color='#F78181')\n",
    "plt.title('Distribució Preu lloguer mitjà mensual', size=18)\n",
    "plt.xlabel('Any',fontsize=15)\n",
    "plt.ylabel('Preus Lloguer Mitjà mensual (€)',fontsize=14)\n",
    "plt.savefig('stripplot_any.png')\n",
    "plt.show()"
   ]
  },
  {
   "cell_type": "markdown",
   "id": "735f708b",
   "metadata": {},
   "source": [
    "### Comentaris del gràfic\n",
    "\n",
    "1. Si fem el mateix gràfic però per any, estem agafant el dataset anterior però per quatre, per tant, tenim molta millor mostra per representar. El efecte produït és que, el gràfic és una mica més fàcil d'entrendre i es veuen molt millor les concentracions de dades, com per exemple, la major densitat de preus el voltant dels 800 euros."
   ]
  },
  {
   "cell_type": "markdown",
   "id": "1a71c519",
   "metadata": {},
   "source": [
    "### 5. Tres variables (Barri o Districte, Trimestre i Preu)"
   ]
  },
  {
   "cell_type": "markdown",
   "id": "06bd8404",
   "metadata": {},
   "source": [
    "##### Farem servir un altre cop el boxplot, però ara per representar el preu de lloguer mensual per districtes, però obert per trimestres. L'única gran diferència en el codi per obtenir aquest gràfic, és afegir l'argument 'hue'. Aquest argument, actua com una tercera variable categòrica que farem servir per donar una tercera dimensió el gràfic."
   ]
  },
  {
   "cell_type": "code",
   "execution_count": 33,
   "id": "5b5af567",
   "metadata": {},
   "outputs": [
    {
     "data": {
      "image/png": "[encoded data removed]",
      "text/plain": [
       "<Figure size 1080x576 with 1 Axes>"
      ]
     },
     "metadata": {},
     "output_type": "display_data"
    }
   ],
   "source": [
    "plt.figure(figsize=(15,8))\n",
    "\n",
    "sns.boxplot(x = 'Nom_Districte', y='Preu', hue = 'Trimestre', data = llog_mitja, palette='Set1')\n",
    "plt.title('lloguer mensual per Trimestre i Districte', fontsize=22)\n",
    "plt.xlabel('Noms dels Districtes', fontsize=13)\n",
    "plt.ylabel('Lloguer mensual en (€)', fontsize=13)\n",
    "plt.xticks(rotation = 45)\n",
    "plt.savefig('box_3_variables.png')\n",
    "\n",
    "plt.show()"
   ]
  },
  {
   "cell_type": "markdown",
   "id": "9ec71110",
   "metadata": {},
   "source": [
    "### Comentaris del gráfic\n",
    "\n",
    "1. En el exercici tres vam fer comentaris força estesos de les característiques del boxplot, que ara mateix no les repetirem perqué tenim les mateixes dades. Però, ara hem afegit una nova variable (trimestre), la qual ens afegeix per exemple, com hi ha una petita tendència cap una pujada de la mitjana dels preus del trimestre quatre en molts dels districtes.\n",
    "\n",
    "2. Per un altre costat, com que aquí més detall de les dades podem veure llavors llocs específics (en el temps) on és produeixen les dades atípiques. D'questa manera les dades atípiques canvien a diferència de l'exercici tres on només hem vist dades atípiques o amunt o avall dels quartils extrems, en canvi, aquí en podem veure amunt i avall com en el cas del segon trimestre a Gràcia."
   ]
  },
  {
   "cell_type": "markdown",
   "id": "2bb1df50",
   "metadata": {},
   "source": [
    "# Exercici 2\n",
    "\n",
    "Exporta els gràfics com imatges o com HTML."
   ]
  },
  {
   "cell_type": "markdown",
   "id": "c6312905",
   "metadata": {},
   "source": [
    "### Cada exercici té guardada la seva imatge com a .PNG"
   ]
  },
  {
   "cell_type": "markdown",
   "id": "d7385487",
   "metadata": {},
   "source": [
    "# Exercici 3\n",
    "\n",
    "Proposa alguna visualització que creguis que pot resultar interessant."
   ]
  },
  {
   "cell_type": "markdown",
   "id": "06ceb91e",
   "metadata": {},
   "source": [
    "##### Exemple 1. Una representació senzilla però efectiva, i que no he fet servir fins ara és el diagrama de \"Pie\". "
   ]
  },
  {
   "cell_type": "code",
   "execution_count": 34,
   "id": "4bd0e16e",
   "metadata": {},
   "outputs": [
    {
     "data": {
      "image/png": "[encoded data removed]",
      "text/plain": [
       "<Figure size 432x504 with 1 Axes>"
      ]
     },
     "metadata": {},
     "output_type": "display_data"
    }
   ],
   "source": [
    "freq_dist = llog_mitja['Nom_Districte'].value_counts()\n",
    "plt.figure(figsize=(6,7))\n",
    "plt.pie(freq_dist.values, labels=freq_dist.index, colors=sns.color_palette('Paired'), autopct='%1.1f%%')\n",
    "plt.title('Registres Per Districte', fontsize=18)\n",
    "plt.savefig('Participació districtes.png')\n",
    "plt.show()"
   ]
  },
  {
   "cell_type": "markdown",
   "id": "5ad19dc0",
   "metadata": {},
   "source": [
    "### Comentaris del gráfic\n",
    "\n",
    "1. El gràfic ens exposa la diversitat de registres per districtes, amb el percentatge correponent de cada districte. Així mateix, podem fer un cop d'ull ràpid sobre quins són els districtes amb major representació del dataset. En aquest cas, tenim que Sant martí, Nou Barris i Horta-Guinardó es porten gairebé el 45% dels registres."
   ]
  },
  {
   "cell_type": "markdown",
   "id": "948a5648",
   "metadata": {},
   "source": [
    "##### Exemple 2. Ara farem servir un nou boxplot, però mirarem de manera simultània dues columnes d'un dataframe. Per una banda visualitzarem el lloguer mitjà mensual i d'altra el preu del metre quadrat dels mateixos lloguers. \n",
    "\n",
    "##### El principal argument que s'introdueix per generar la vista simultània, és afegir adins del subplot, l'ubicació d'un subplot  endins d'una figura amb múltiples subplots (en aquest cas, només dos). Doncs, la primera imatge l'aconseguim especificant que s'ubicará en la primera posició, dins d'una sèrie de subplots que només tindrà una fila i dues columnes. Per aconseguir la segona, només hem de canviar l'últim número per un dos (generant el segon plot).\n",
    "\n"
   ]
  },
  {
   "cell_type": "code",
   "execution_count": 52,
   "id": "97730ef2",
   "metadata": {
    "scrolled": true
   },
   "outputs": [
    {
     "data": {
      "image/png": "[encoded data removed]",
      "text/plain": [
       "<Figure size 936x720 with 2 Axes>"
      ]
     },
     "metadata": {},
     "output_type": "display_data"
    }
   ],
   "source": [
    "plt.figure(figsize=(13,10))\n",
    " \n",
    "plt.subplot(121)\n",
    "sns.boxplot(x = llog_mitja['Nom_Districte'], y = llog_mitja['Preu'])\n",
    "plt.title('Preu lloguer mensual mitjà per districte', size=18)\n",
    "plt.ylabel('Preu en (€)', fontsize=14)\n",
    "plt.xlabel('Noms Districtes', fontsize=14)\n",
    "plt.xticks(rotation = 45)\n",
    "\n",
    "plt.subplot(122)\n",
    "sns.boxplot(x = llog_m2['Nom_Districte'], y = llog_m2['Preu'])\n",
    "plt.title('Preu lloguer mensual mitjà per m2', size=18)\n",
    "plt.ylabel('Preu en (€)', fontsize=14)\n",
    "plt.xlabel('Noms Districtes', fontsize=14)\n",
    "plt.xticks(rotation = 45)\n",
    "\n",
    "plt.savefig('comparativa_boxplots.png')\n",
    "\n",
    "plt.subplots_adjust(wspace=0.3, bottom=0.2)\n",
    "\n"
   ]
  },
  {
   "cell_type": "markdown",
   "id": "e2414584",
   "metadata": {},
   "source": [
    "### Comentaris del gráfic\n",
    "\n",
    "1. Com que ja hem fet l'anàlisi d'aquestes dades anteriorment ara només comentarem un parell de coses. Aqueste manera és molt potent per adonar-nos ràpidament que les dades del lloguer mitjà a diferència del metre quadrat, es troben molt més disperses que en el segon cas. Llavors, les mostres del segon gràfic queden totes més agrupades en al voltant de la mitjana."
   ]
  },
  {
   "cell_type": "markdown",
   "id": "17705706",
   "metadata": {},
   "source": [
    "##### Exemple 3. Ara visualitzarem un nou gráfic que és diu Histograma. Novament farem servir la visualitzaciò simultània però en aquest cas d'una manera una mica diferent. A l'inici de tot quan definim com serà la figura, posarem que crearem dos subplots en una sola fila i en dues columnes. Desprès, més avall, indicarem que dins de la matriu d'objectes 'axs' crearem el primer subplot [0] i el segon subplot [1]."
   ]
  },
  {
   "cell_type": "code",
   "execution_count": 53,
   "id": "fa37f21c",
   "metadata": {},
   "outputs": [
    {
     "data": {
      "image/png": "[encoded data removed]",
      "text/plain": [
       "<Figure size 864x288 with 2 Axes>"
      ]
     },
     "metadata": {},
     "output_type": "display_data"
    }
   ],
   "source": [
    "fig, axs = plt.subplots(1, 2, figsize=(12, 4))\n",
    "\n",
    "axs[0].hist(llog_mitja['Preu'], bins=20, color='orange')\n",
    "axs[0].set_title('Lloguer mitjà mensual',fontsize=15)\n",
    "axs[0].set_xlabel('Preu(€)')\n",
    "axs[0].set_ylabel('Registres')\n",
    "\n",
    "axs[1].hist(llog_m2['Preu'], bins=25, color='red')\n",
    "axs[1].set_title('Lloguer mitjà mensual per m2', fontsize=15)\n",
    "axs[1].set_xlabel('Preu/m2(€)')\n",
    "axs[1].set_ylabel('Registres')\n",
    "\n",
    "plt.subplots_adjust(wspace=0.3, bottom=0.2)\n",
    "\n",
    "plt.savefig('comparativa_histrogrames.png')\n",
    "\n",
    "plt.show()"
   ]
  },
  {
   "cell_type": "markdown",
   "id": "975e096d",
   "metadata": {},
   "source": [
    "### Comentaris del gráfic\n",
    "\n",
    "1. Les dades ja han sigut comentades en altres visualitzacions, per tant, no cal ara mateix tornar a explicar-les."
   ]
  },
  {
   "cell_type": "code",
   "execution_count": null,
   "id": "e001567a",
   "metadata": {},
   "outputs": [],
   "source": []
  }
 ],
 "metadata": {
  "kernelspec": {
   "display_name": "Python 3 (ipykernel)",
   "language": "python",
   "name": "python3"
  },
  "language_info": {
   "codemirror_mode": {
    "name": "ipython",
    "version": 3
   },
   "file_extension": ".py",
   "mimetype": "text/x-python",
   "name": "python",
   "nbconvert_exporter": "python",
   "pygments_lexer": "ipython3",
   "version": "3.9.12"
  },
  "latex_envs": {
   "LaTeX_envs_menu_present": true,
   "autoclose": false,
   "autocomplete": true,
   "bibliofile": "biblio.bib",
   "cite_by": "apalike",
   "current_citInitial": 1,
   "eqLabelWithNumbers": true,
   "eqNumInitial": 1,
   "hotkeys": {
    "equation": "Ctrl-E",
    "itemize": "Ctrl-I"
   },
   "labels_anchors": false,
   "latex_user_defs": false,
   "report_style_numbering": false,
   "user_envs_cfg": false
  }
 },
 "nbformat": 4,
 "nbformat_minor": 5
}
